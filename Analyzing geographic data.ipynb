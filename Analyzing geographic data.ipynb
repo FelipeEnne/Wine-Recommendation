{
 "cells": [
  {
   "cell_type": "markdown",
   "id": "b64b8e07",
   "metadata": {},
   "source": [
    "## Analyzing geographic data"
   ]
  },
  {
   "cell_type": "markdown",
   "id": "00bbc031",
   "metadata": {},
   "source": [
    "Analizing the database of wine reviews: [Wine Reviews](https://www.kaggle.com/zynicide/wine-reviews) \n",
    "\n",
    "\n",
    "inspired by [wine-recommender](https://www.kaggle.com/sudhirnl7/wine-recommender/notebook)"
   ]
  },
  {
   "cell_type": "markdown",
   "id": "4d934fc1",
   "metadata": {},
   "source": [
    "### Import and read csv"
   ]
  },
  {
   "cell_type": "code",
   "execution_count": 26,
   "id": "04bc2811",
   "metadata": {},
   "outputs": [],
   "source": [
    "import pandas as pd\n",
    "\n",
    "#You have to install pycountry-convert\n",
    "import pycountry_convert as pc\n",
    "\n",
    "%matplotlib inline\n",
    "plt.style.use('fivethirtyeight')\n",
    "plt.rcParams.update({'font.size':12})"
   ]
  },
  {
   "cell_type": "code",
   "execution_count": 27,
   "id": "86aba2aa",
   "metadata": {},
   "outputs": [],
   "source": [
    "path = '2-Data/wines.csv'\n",
    "\n",
    "wines = pd.read_csv(path, low_memory=False)"
   ]
  },
  {
   "cell_type": "code",
   "execution_count": 28,
   "id": "e0eb165c",
   "metadata": {
    "scrolled": true
   },
   "outputs": [
    {
     "data": {
      "text/plain": [
       "(258145, 11)"
      ]
     },
     "execution_count": 28,
     "metadata": {},
     "output_type": "execute_result"
    }
   ],
   "source": [
    "wines.shape"
   ]
  },
  {
   "cell_type": "code",
   "execution_count": 29,
   "id": "aa578022",
   "metadata": {},
   "outputs": [
    {
     "data": {
      "text/plain": [
       "array(['Albania', 'Argentina', 'Armenia', 'Australia', 'Austria',\n",
       "       'Bosnia and Herzegovina', 'Brazil', 'Bulgaria', 'Canada', 'Chile',\n",
       "       'China', 'Croatia', 'Cyprus', 'Czech Republic', 'England',\n",
       "       'France', 'Georgia', 'Germany', 'Greece', 'Hungary', 'India',\n",
       "       'Israel', 'Italy', 'Japan', 'Lebanon', 'Lithuania', 'Luxembourg',\n",
       "       'Macedonia', 'Mexico', 'Moldova', 'Montenegro', 'Morocco',\n",
       "       'New Zealand', 'Peru', 'Portugal', 'Romania', 'Serbia', 'Slovakia',\n",
       "       'Slovenia', 'South Africa', 'South Korea', 'Spain', 'Switzerland',\n",
       "       'Turkey', 'US', 'US-France', 'Ukraine', 'Uruguay'], dtype=object)"
      ]
     },
     "execution_count": 29,
     "metadata": {},
     "output_type": "execute_result"
    }
   ],
   "source": [
    "np.unique(wines['country'])"
   ]
  },
  {
   "cell_type": "markdown",
   "id": "b5347346",
   "metadata": {},
   "source": [
    "# Add continents"
   ]
  },
  {
   "cell_type": "code",
   "execution_count": 30,
   "id": "6569c139",
   "metadata": {},
   "outputs": [
    {
     "name": "stdout",
     "output_type": "stream",
     "text": [
      "BR\n",
      "SA\n"
     ]
    }
   ],
   "source": [
    "country_code = pc.country_name_to_country_alpha2(\"Brazil\", cn_name_format=\"default\")\n",
    "print(country_code)\n",
    "continent_name = pc.country_alpha2_to_continent_code(country_code)\n",
    "print(continent_name)"
   ]
  },
  {
   "cell_type": "code",
   "execution_count": 31,
   "id": "4f83a70a",
   "metadata": {},
   "outputs": [
    {
     "data": {
      "text/plain": [
       "{'Portugal': 'EU',\n",
       " 'US': 'Unknown',\n",
       " 'Spain': 'EU',\n",
       " 'Italy': 'EU',\n",
       " 'France': 'EU',\n",
       " 'Germany': 'EU',\n",
       " 'Argentina': 'SA',\n",
       " 'Chile': 'SA',\n",
       " 'Australia': 'OC',\n",
       " 'Austria': 'EU',\n",
       " 'South Africa': 'AF',\n",
       " 'New Zealand': 'OC',\n",
       " 'Israel': 'AS',\n",
       " 'Hungary': 'EU',\n",
       " 'Greece': 'EU',\n",
       " 'Romania': 'EU',\n",
       " 'Mexico': 'NA',\n",
       " 'Canada': 'NA',\n",
       " 'Turkey': 'AS',\n",
       " 'Czech Republic': 'EU',\n",
       " 'Slovenia': 'EU',\n",
       " 'Luxembourg': 'EU',\n",
       " 'Croatia': 'EU',\n",
       " 'Georgia': 'AS',\n",
       " 'Uruguay': 'SA',\n",
       " 'England': 'Unknown',\n",
       " 'Lebanon': 'AS',\n",
       " 'Serbia': 'EU',\n",
       " 'Brazil': 'SA',\n",
       " 'Moldova': 'EU',\n",
       " 'Morocco': 'AF',\n",
       " 'Peru': 'SA',\n",
       " 'India': 'AS',\n",
       " 'Bulgaria': 'EU',\n",
       " 'Cyprus': 'AS',\n",
       " 'Armenia': 'AS',\n",
       " 'Switzerland': 'EU',\n",
       " 'Bosnia and Herzegovina': 'EU',\n",
       " 'Ukraine': 'EU',\n",
       " 'Slovakia': 'EU',\n",
       " 'Macedonia': 'EU',\n",
       " 'China': 'AS',\n",
       " 'Albania': 'EU',\n",
       " 'Lithuania': 'EU',\n",
       " 'Japan': 'AS',\n",
       " 'South Korea': 'AS',\n",
       " 'Montenegro': 'EU',\n",
       " 'US-France': 'Unknown'}"
      ]
     },
     "execution_count": 31,
     "metadata": {},
     "output_type": "execute_result"
    }
   ],
   "source": [
    "list_countries = wines['country'].unique()\n",
    "\n",
    "def get_continent(col):\n",
    "    try:\n",
    "        cn_a2_code =  pc.country_name_to_country_alpha2(col)\n",
    "    except:\n",
    "        cn_a2_code = 'Unknown' \n",
    "    try:\n",
    "        cn_continent = pc.country_alpha2_to_continent_code(cn_a2_code)\n",
    "    except:\n",
    "        cn_continent = 'Unknown' \n",
    "    return [col, cn_continent]\n",
    "\n",
    "continents = [get_continent(c) for c in list_countries]\n",
    "continents_mapping = {}\n",
    "\n",
    "for i in continents:\n",
    "    for x in (i,2):\n",
    "        if(type(x) == list):\n",
    "            continents_mapping[x[0]] = x[1]\n",
    "\n",
    "continents_mapping"
   ]
  },
  {
   "cell_type": "code",
   "execution_count": 32,
   "id": "b3165846",
   "metadata": {},
   "outputs": [
    {
     "data": {
      "text/plain": [
       "{'Portugal': 'EU',\n",
       " 'US': 'NA',\n",
       " 'Spain': 'EU',\n",
       " 'Italy': 'EU',\n",
       " 'France': 'EU',\n",
       " 'Germany': 'EU',\n",
       " 'Argentina': 'SA',\n",
       " 'Chile': 'SA',\n",
       " 'Australia': 'OC',\n",
       " 'Austria': 'EU',\n",
       " 'South Africa': 'AF',\n",
       " 'New Zealand': 'OC',\n",
       " 'Israel': 'AS',\n",
       " 'Hungary': 'EU',\n",
       " 'Greece': 'EU',\n",
       " 'Romania': 'EU',\n",
       " 'Mexico': 'NA',\n",
       " 'Canada': 'NA',\n",
       " 'Turkey': 'AS',\n",
       " 'Czech Republic': 'EU',\n",
       " 'Slovenia': 'EU',\n",
       " 'Luxembourg': 'EU',\n",
       " 'Croatia': 'EU',\n",
       " 'Georgia': 'AS',\n",
       " 'Uruguay': 'SA',\n",
       " 'England': 'EU',\n",
       " 'Lebanon': 'AS',\n",
       " 'Serbia': 'EU',\n",
       " 'Brazil': 'SA',\n",
       " 'Moldova': 'EU',\n",
       " 'Morocco': 'AF',\n",
       " 'Peru': 'SA',\n",
       " 'India': 'AS',\n",
       " 'Bulgaria': 'EU',\n",
       " 'Cyprus': 'AS',\n",
       " 'Armenia': 'AS',\n",
       " 'Switzerland': 'EU',\n",
       " 'Bosnia and Herzegovina': 'EU',\n",
       " 'Ukraine': 'EU',\n",
       " 'Slovakia': 'EU',\n",
       " 'Macedonia': 'EU',\n",
       " 'China': 'AS',\n",
       " 'Albania': 'EU',\n",
       " 'Lithuania': 'EU',\n",
       " 'Japan': 'AS',\n",
       " 'South Korea': 'AS',\n",
       " 'Montenegro': 'EU',\n",
       " 'US-France': 'NA'}"
      ]
     },
     "execution_count": 32,
     "metadata": {},
     "output_type": "execute_result"
    }
   ],
   "source": [
    "continents_mapping['US'] = 'NA'\n",
    "continents_mapping['England'] = 'EU'\n",
    "continents_mapping['US-France'] = 'NA'\n",
    "continents_mapping"
   ]
  },
  {
   "cell_type": "code",
   "execution_count": 33,
   "id": "bdbf613b",
   "metadata": {},
   "outputs": [
    {
     "data": {
      "text/html": [
       "<div>\n",
       "<style scoped>\n",
       "    .dataframe tbody tr th:only-of-type {\n",
       "        vertical-align: middle;\n",
       "    }\n",
       "\n",
       "    .dataframe tbody tr th {\n",
       "        vertical-align: top;\n",
       "    }\n",
       "\n",
       "    .dataframe thead th {\n",
       "        text-align: right;\n",
       "    }\n",
       "</style>\n",
       "<table border=\"1\" class=\"dataframe\">\n",
       "  <thead>\n",
       "    <tr style=\"text-align: right;\">\n",
       "      <th></th>\n",
       "      <th>Unnamed: 0</th>\n",
       "      <th>Index_P</th>\n",
       "      <th>country</th>\n",
       "      <th>description</th>\n",
       "      <th>designation</th>\n",
       "      <th>points</th>\n",
       "      <th>price</th>\n",
       "      <th>province</th>\n",
       "      <th>region_1</th>\n",
       "      <th>variety</th>\n",
       "      <th>winery</th>\n",
       "      <th>continent</th>\n",
       "    </tr>\n",
       "  </thead>\n",
       "  <tbody>\n",
       "    <tr>\n",
       "      <th>0</th>\n",
       "      <td>1</td>\n",
       "      <td>1</td>\n",
       "      <td>Portugal</td>\n",
       "      <td>This is ripe and fruity, a wine that is smooth...</td>\n",
       "      <td>Avidagos</td>\n",
       "      <td>87</td>\n",
       "      <td>15.0</td>\n",
       "      <td>Douro</td>\n",
       "      <td>Unknown</td>\n",
       "      <td>Portuguese Red</td>\n",
       "      <td>Quinta dos Avidagos</td>\n",
       "      <td>EU</td>\n",
       "    </tr>\n",
       "    <tr>\n",
       "      <th>1</th>\n",
       "      <td>2</td>\n",
       "      <td>2</td>\n",
       "      <td>US</td>\n",
       "      <td>Tart and snappy, the flavors of lime flesh and...</td>\n",
       "      <td>Unknown</td>\n",
       "      <td>87</td>\n",
       "      <td>14.0</td>\n",
       "      <td>Oregon</td>\n",
       "      <td>Willamette Valley</td>\n",
       "      <td>Pinot Gris</td>\n",
       "      <td>Rainstorm</td>\n",
       "      <td>NA</td>\n",
       "    </tr>\n",
       "    <tr>\n",
       "      <th>2</th>\n",
       "      <td>3</td>\n",
       "      <td>3</td>\n",
       "      <td>US</td>\n",
       "      <td>Pineapple rind, lemon pith and orange blossom ...</td>\n",
       "      <td>Reserve Late Harvest</td>\n",
       "      <td>87</td>\n",
       "      <td>13.0</td>\n",
       "      <td>Michigan</td>\n",
       "      <td>Lake Michigan Shore</td>\n",
       "      <td>Riesling</td>\n",
       "      <td>St. Julian</td>\n",
       "      <td>NA</td>\n",
       "    </tr>\n",
       "    <tr>\n",
       "      <th>3</th>\n",
       "      <td>4</td>\n",
       "      <td>4</td>\n",
       "      <td>US</td>\n",
       "      <td>Much like the regular bottling from 2012, this...</td>\n",
       "      <td>Vintner's Reserve Wild Child Block</td>\n",
       "      <td>87</td>\n",
       "      <td>65.0</td>\n",
       "      <td>Oregon</td>\n",
       "      <td>Willamette Valley</td>\n",
       "      <td>Pinot Noir</td>\n",
       "      <td>Sweet Cheeks</td>\n",
       "      <td>NA</td>\n",
       "    </tr>\n",
       "    <tr>\n",
       "      <th>4</th>\n",
       "      <td>5</td>\n",
       "      <td>5</td>\n",
       "      <td>Spain</td>\n",
       "      <td>Blackberry and raspberry aromas show a typical...</td>\n",
       "      <td>Ars In Vitro</td>\n",
       "      <td>87</td>\n",
       "      <td>15.0</td>\n",
       "      <td>Northern Spain</td>\n",
       "      <td>Navarra</td>\n",
       "      <td>Tempranillo-Merlot</td>\n",
       "      <td>Tandem</td>\n",
       "      <td>EU</td>\n",
       "    </tr>\n",
       "  </tbody>\n",
       "</table>\n",
       "</div>"
      ],
      "text/plain": [
       "   Unnamed: 0  Index_P   country  \\\n",
       "0           1        1  Portugal   \n",
       "1           2        2        US   \n",
       "2           3        3        US   \n",
       "3           4        4        US   \n",
       "4           5        5     Spain   \n",
       "\n",
       "                                         description  \\\n",
       "0  This is ripe and fruity, a wine that is smooth...   \n",
       "1  Tart and snappy, the flavors of lime flesh and...   \n",
       "2  Pineapple rind, lemon pith and orange blossom ...   \n",
       "3  Much like the regular bottling from 2012, this...   \n",
       "4  Blackberry and raspberry aromas show a typical...   \n",
       "\n",
       "                          designation  points  price        province  \\\n",
       "0                            Avidagos      87   15.0           Douro   \n",
       "1                             Unknown      87   14.0          Oregon   \n",
       "2                Reserve Late Harvest      87   13.0        Michigan   \n",
       "3  Vintner's Reserve Wild Child Block      87   65.0          Oregon   \n",
       "4                        Ars In Vitro      87   15.0  Northern Spain   \n",
       "\n",
       "              region_1             variety               winery continent  \n",
       "0              Unknown      Portuguese Red  Quinta dos Avidagos        EU  \n",
       "1    Willamette Valley          Pinot Gris            Rainstorm        NA  \n",
       "2  Lake Michigan Shore            Riesling           St. Julian        NA  \n",
       "3    Willamette Valley          Pinot Noir         Sweet Cheeks        NA  \n",
       "4              Navarra  Tempranillo-Merlot               Tandem        EU  "
      ]
     },
     "execution_count": 33,
     "metadata": {},
     "output_type": "execute_result"
    }
   ],
   "source": [
    "wines['continent'] =  [continents_mapping[x] for x in wines['country']]\n",
    "wines.head(5)"
   ]
  },
  {
   "cell_type": "code",
   "execution_count": 34,
   "id": "d2a539f8",
   "metadata": {},
   "outputs": [],
   "source": [
    "wines.to_csv(\"2-Data/wines_geo.csv\")"
   ]
  },
  {
   "cell_type": "code",
   "execution_count": null,
   "id": "32b17dfe",
   "metadata": {},
   "outputs": [],
   "source": []
  },
  {
   "cell_type": "code",
   "execution_count": null,
   "id": "0eafc3e0",
   "metadata": {},
   "outputs": [],
   "source": []
  }
 ],
 "metadata": {
  "kernelspec": {
   "display_name": "Python 3",
   "language": "python",
   "name": "python3"
  },
  "language_info": {
   "codemirror_mode": {
    "name": "ipython",
    "version": 3
   },
   "file_extension": ".py",
   "mimetype": "text/x-python",
   "name": "python",
   "nbconvert_exporter": "python",
   "pygments_lexer": "ipython3",
   "version": "3.8.8"
  }
 },
 "nbformat": 4,
 "nbformat_minor": 5
}
