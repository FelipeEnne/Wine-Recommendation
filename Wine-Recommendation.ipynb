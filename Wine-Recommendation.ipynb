{
 "cells": [
  {
   "cell_type": "markdown",
   "id": "b64b8e07",
   "metadata": {},
   "source": [
    "## Wine Recommendation"
   ]
  },
  {
   "cell_type": "markdown",
   "id": "00bbc031",
   "metadata": {},
   "source": [
    "Analizing the database of wine reviews: [Wine Reviews](https://www.kaggle.com/zynicide/wine-reviews) \n",
    "\n",
    "\n",
    "inspired by [wine-recommender](https://www.kaggle.com/sudhirnl7/wine-recommender/notebook)"
   ]
  },
  {
   "cell_type": "markdown",
   "id": "4d934fc1",
   "metadata": {},
   "source": [
    "### Import and read csv"
   ]
  },
  {
   "cell_type": "code",
   "execution_count": 65,
   "id": "04bc2811",
   "metadata": {},
   "outputs": [
    {
     "ename": "ModuleNotFoundError",
     "evalue": "No module named 'squarify'",
     "output_type": "error",
     "traceback": [
      "\u001b[1;31m---------------------------------------------------------------------------\u001b[0m",
      "\u001b[1;31mModuleNotFoundError\u001b[0m                       Traceback (most recent call last)",
      "\u001b[1;32m<ipython-input-65-0fa92a67b60f>\u001b[0m in \u001b[0;36m<module>\u001b[1;34m\u001b[0m\n\u001b[0;32m      3\u001b[0m \u001b[1;32mimport\u001b[0m \u001b[0mmatplotlib\u001b[0m\u001b[1;33m.\u001b[0m\u001b[0mpyplot\u001b[0m \u001b[1;32mas\u001b[0m \u001b[0mplt\u001b[0m\u001b[1;33m\u001b[0m\u001b[1;33m\u001b[0m\u001b[0m\n\u001b[0;32m      4\u001b[0m \u001b[1;32mimport\u001b[0m \u001b[0mseaborn\u001b[0m \u001b[1;32mas\u001b[0m \u001b[0msns\u001b[0m\u001b[1;33m\u001b[0m\u001b[1;33m\u001b[0m\u001b[0m\n\u001b[1;32m----> 5\u001b[1;33m \u001b[1;32mimport\u001b[0m \u001b[0msquarify\u001b[0m\u001b[1;33m\u001b[0m\u001b[1;33m\u001b[0m\u001b[0m\n\u001b[0m\u001b[0;32m      6\u001b[0m \u001b[1;33m\u001b[0m\u001b[0m\n\u001b[0;32m      7\u001b[0m \u001b[0mget_ipython\u001b[0m\u001b[1;33m(\u001b[0m\u001b[1;33m)\u001b[0m\u001b[1;33m.\u001b[0m\u001b[0mrun_line_magic\u001b[0m\u001b[1;33m(\u001b[0m\u001b[1;34m'matplotlib'\u001b[0m\u001b[1;33m,\u001b[0m \u001b[1;34m'inline'\u001b[0m\u001b[1;33m)\u001b[0m\u001b[1;33m\u001b[0m\u001b[1;33m\u001b[0m\u001b[0m\n",
      "\u001b[1;31mModuleNotFoundError\u001b[0m: No module named 'squarify'"
     ]
    }
   ],
   "source": [
    "import pandas as pd\n",
    "import numpy as np\n",
    "import matplotlib.pyplot as plt\n",
    "import seaborn as sns\n",
    "\n",
    "%matplotlib inline\n",
    "plt.style.use('fivethirtyeight')\n",
    "plt.rcParams.update({'font.size':12})"
   ]
  },
  {
   "cell_type": "code",
   "execution_count": 2,
   "id": "86aba2aa",
   "metadata": {},
   "outputs": [],
   "source": [
    "path = 'input/'\n",
    "path_150k = path + 'winemag-data_first150k.csv'\n",
    "path_130k = path + 'winemag-data-130k-v2.csv'\n",
    "\n",
    "wine_150k = pd.read_csv(path_150k)\n",
    "wine_130k = pd.read_csv(path_130k)"
   ]
  },
  {
   "cell_type": "code",
   "execution_count": 3,
   "id": "e0eb165c",
   "metadata": {
    "scrolled": true
   },
   "outputs": [
    {
     "name": "stdout",
     "output_type": "stream",
     "text": [
      "(150930, 11)\n",
      "(129971, 14)\n"
     ]
    }
   ],
   "source": [
    "print(wine_150k.shape)\n",
    "print(wine_130k.shape)"
   ]
  },
  {
   "cell_type": "markdown",
   "id": "b637d084",
   "metadata": {},
   "source": [
    "## Data Cleaning and Analyzing Data"
   ]
  },
  {
   "cell_type": "markdown",
   "id": "ff8c66ff",
   "metadata": {},
   "source": [
    "The wine_130k has more columns than wine_150k, but I don't see any problem to concatenate"
   ]
  },
  {
   "cell_type": "code",
   "execution_count": 4,
   "id": "76abf99a",
   "metadata": {},
   "outputs": [
    {
     "data": {
      "text/plain": [
       "['taster_name', 'taster_twitter_handle', 'title']"
      ]
     },
     "execution_count": 4,
     "metadata": {},
     "output_type": "execute_result"
    }
   ],
   "source": [
    "list(set(wine_130k.columns) - set( wine_150k.columns))"
   ]
  },
  {
   "cell_type": "code",
   "execution_count": 5,
   "id": "02f0ea0c",
   "metadata": {},
   "outputs": [],
   "source": [
    "wines = pd.concat([wine_130k, wine_150k], axis=0)"
   ]
  },
  {
   "cell_type": "code",
   "execution_count": 6,
   "id": "7f0b1cac",
   "metadata": {},
   "outputs": [
    {
     "data": {
      "text/html": [
       "<div>\n",
       "<style scoped>\n",
       "    .dataframe tbody tr th:only-of-type {\n",
       "        vertical-align: middle;\n",
       "    }\n",
       "\n",
       "    .dataframe tbody tr th {\n",
       "        vertical-align: top;\n",
       "    }\n",
       "\n",
       "    .dataframe thead th {\n",
       "        text-align: right;\n",
       "    }\n",
       "</style>\n",
       "<table border=\"1\" class=\"dataframe\">\n",
       "  <thead>\n",
       "    <tr style=\"text-align: right;\">\n",
       "      <th></th>\n",
       "      <th>Index_P</th>\n",
       "      <th>country</th>\n",
       "      <th>description</th>\n",
       "      <th>designation</th>\n",
       "      <th>points</th>\n",
       "      <th>price</th>\n",
       "      <th>province</th>\n",
       "      <th>region_1</th>\n",
       "      <th>region_2</th>\n",
       "      <th>taster_name</th>\n",
       "      <th>taster_twitter_handle</th>\n",
       "      <th>title</th>\n",
       "      <th>variety</th>\n",
       "      <th>winery</th>\n",
       "    </tr>\n",
       "  </thead>\n",
       "  <tbody>\n",
       "    <tr>\n",
       "      <th>0</th>\n",
       "      <td>0</td>\n",
       "      <td>Italy</td>\n",
       "      <td>Aromas include tropical fruit, broom, brimston...</td>\n",
       "      <td>Vulkà Bianco</td>\n",
       "      <td>87</td>\n",
       "      <td>NaN</td>\n",
       "      <td>Sicily &amp; Sardinia</td>\n",
       "      <td>Etna</td>\n",
       "      <td>NaN</td>\n",
       "      <td>Kerin O’Keefe</td>\n",
       "      <td>@kerinokeefe</td>\n",
       "      <td>Nicosia 2013 Vulkà Bianco  (Etna)</td>\n",
       "      <td>White Blend</td>\n",
       "      <td>Nicosia</td>\n",
       "    </tr>\n",
       "    <tr>\n",
       "      <th>1</th>\n",
       "      <td>1</td>\n",
       "      <td>Portugal</td>\n",
       "      <td>This is ripe and fruity, a wine that is smooth...</td>\n",
       "      <td>Avidagos</td>\n",
       "      <td>87</td>\n",
       "      <td>15.0</td>\n",
       "      <td>Douro</td>\n",
       "      <td>NaN</td>\n",
       "      <td>NaN</td>\n",
       "      <td>Roger Voss</td>\n",
       "      <td>@vossroger</td>\n",
       "      <td>Quinta dos Avidagos 2011 Avidagos Red (Douro)</td>\n",
       "      <td>Portuguese Red</td>\n",
       "      <td>Quinta dos Avidagos</td>\n",
       "    </tr>\n",
       "    <tr>\n",
       "      <th>2</th>\n",
       "      <td>2</td>\n",
       "      <td>US</td>\n",
       "      <td>Tart and snappy, the flavors of lime flesh and...</td>\n",
       "      <td>NaN</td>\n",
       "      <td>87</td>\n",
       "      <td>14.0</td>\n",
       "      <td>Oregon</td>\n",
       "      <td>Willamette Valley</td>\n",
       "      <td>Willamette Valley</td>\n",
       "      <td>Paul Gregutt</td>\n",
       "      <td>@paulgwine</td>\n",
       "      <td>Rainstorm 2013 Pinot Gris (Willamette Valley)</td>\n",
       "      <td>Pinot Gris</td>\n",
       "      <td>Rainstorm</td>\n",
       "    </tr>\n",
       "    <tr>\n",
       "      <th>3</th>\n",
       "      <td>3</td>\n",
       "      <td>US</td>\n",
       "      <td>Pineapple rind, lemon pith and orange blossom ...</td>\n",
       "      <td>Reserve Late Harvest</td>\n",
       "      <td>87</td>\n",
       "      <td>13.0</td>\n",
       "      <td>Michigan</td>\n",
       "      <td>Lake Michigan Shore</td>\n",
       "      <td>NaN</td>\n",
       "      <td>Alexander Peartree</td>\n",
       "      <td>NaN</td>\n",
       "      <td>St. Julian 2013 Reserve Late Harvest Riesling ...</td>\n",
       "      <td>Riesling</td>\n",
       "      <td>St. Julian</td>\n",
       "    </tr>\n",
       "    <tr>\n",
       "      <th>4</th>\n",
       "      <td>4</td>\n",
       "      <td>US</td>\n",
       "      <td>Much like the regular bottling from 2012, this...</td>\n",
       "      <td>Vintner's Reserve Wild Child Block</td>\n",
       "      <td>87</td>\n",
       "      <td>65.0</td>\n",
       "      <td>Oregon</td>\n",
       "      <td>Willamette Valley</td>\n",
       "      <td>Willamette Valley</td>\n",
       "      <td>Paul Gregutt</td>\n",
       "      <td>@paulgwine</td>\n",
       "      <td>Sweet Cheeks 2012 Vintner's Reserve Wild Child...</td>\n",
       "      <td>Pinot Noir</td>\n",
       "      <td>Sweet Cheeks</td>\n",
       "    </tr>\n",
       "  </tbody>\n",
       "</table>\n",
       "</div>"
      ],
      "text/plain": [
       "   Index_P   country                                        description  \\\n",
       "0        0     Italy  Aromas include tropical fruit, broom, brimston...   \n",
       "1        1  Portugal  This is ripe and fruity, a wine that is smooth...   \n",
       "2        2        US  Tart and snappy, the flavors of lime flesh and...   \n",
       "3        3        US  Pineapple rind, lemon pith and orange blossom ...   \n",
       "4        4        US  Much like the regular bottling from 2012, this...   \n",
       "\n",
       "                          designation  points  price           province  \\\n",
       "0                        Vulkà Bianco      87    NaN  Sicily & Sardinia   \n",
       "1                            Avidagos      87   15.0              Douro   \n",
       "2                                 NaN      87   14.0             Oregon   \n",
       "3                Reserve Late Harvest      87   13.0           Michigan   \n",
       "4  Vintner's Reserve Wild Child Block      87   65.0             Oregon   \n",
       "\n",
       "              region_1           region_2         taster_name  \\\n",
       "0                 Etna                NaN       Kerin O’Keefe   \n",
       "1                  NaN                NaN          Roger Voss   \n",
       "2    Willamette Valley  Willamette Valley        Paul Gregutt   \n",
       "3  Lake Michigan Shore                NaN  Alexander Peartree   \n",
       "4    Willamette Valley  Willamette Valley        Paul Gregutt   \n",
       "\n",
       "  taster_twitter_handle                                              title  \\\n",
       "0          @kerinokeefe                  Nicosia 2013 Vulkà Bianco  (Etna)   \n",
       "1            @vossroger      Quinta dos Avidagos 2011 Avidagos Red (Douro)   \n",
       "2           @paulgwine       Rainstorm 2013 Pinot Gris (Willamette Valley)   \n",
       "3                   NaN  St. Julian 2013 Reserve Late Harvest Riesling ...   \n",
       "4           @paulgwine   Sweet Cheeks 2012 Vintner's Reserve Wild Child...   \n",
       "\n",
       "          variety               winery  \n",
       "0     White Blend              Nicosia  \n",
       "1  Portuguese Red  Quinta dos Avidagos  \n",
       "2      Pinot Gris            Rainstorm  \n",
       "3        Riesling           St. Julian  \n",
       "4      Pinot Noir         Sweet Cheeks  "
      ]
     },
     "execution_count": 6,
     "metadata": {},
     "output_type": "execute_result"
    }
   ],
   "source": [
    "wines.rename(columns = {'Unnamed: 0': 'Index_P'}, inplace = True)\n",
    "wines.head()"
   ]
  },
  {
   "cell_type": "code",
   "execution_count": 7,
   "id": "5c5dffe3",
   "metadata": {},
   "outputs": [
    {
     "data": {
      "text/html": [
       "<div>\n",
       "<style scoped>\n",
       "    .dataframe tbody tr th:only-of-type {\n",
       "        vertical-align: middle;\n",
       "    }\n",
       "\n",
       "    .dataframe tbody tr th {\n",
       "        vertical-align: top;\n",
       "    }\n",
       "\n",
       "    .dataframe thead th {\n",
       "        text-align: right;\n",
       "    }\n",
       "</style>\n",
       "<table border=\"1\" class=\"dataframe\">\n",
       "  <thead>\n",
       "    <tr style=\"text-align: right;\">\n",
       "      <th></th>\n",
       "      <th>count</th>\n",
       "      <th>unique</th>\n",
       "      <th>top</th>\n",
       "      <th>freq</th>\n",
       "      <th>mean</th>\n",
       "      <th>std</th>\n",
       "      <th>min</th>\n",
       "      <th>25%</th>\n",
       "      <th>50%</th>\n",
       "      <th>75%</th>\n",
       "      <th>max</th>\n",
       "    </tr>\n",
       "  </thead>\n",
       "  <tbody>\n",
       "    <tr>\n",
       "      <th>Index_P</th>\n",
       "      <td>280901.0</td>\n",
       "      <td>NaN</td>\n",
       "      <td>NaN</td>\n",
       "      <td>NaN</td>\n",
       "      <td>70615.70596</td>\n",
       "      <td>41214.379445</td>\n",
       "      <td>0.0</td>\n",
       "      <td>35112.0</td>\n",
       "      <td>70225.0</td>\n",
       "      <td>105337.0</td>\n",
       "      <td>150929.0</td>\n",
       "    </tr>\n",
       "    <tr>\n",
       "      <th>country</th>\n",
       "      <td>280833</td>\n",
       "      <td>50</td>\n",
       "      <td>US</td>\n",
       "      <td>116901</td>\n",
       "      <td>NaN</td>\n",
       "      <td>NaN</td>\n",
       "      <td>NaN</td>\n",
       "      <td>NaN</td>\n",
       "      <td>NaN</td>\n",
       "      <td>NaN</td>\n",
       "      <td>NaN</td>\n",
       "    </tr>\n",
       "    <tr>\n",
       "      <th>description</th>\n",
       "      <td>280901</td>\n",
       "      <td>169430</td>\n",
       "      <td>A little bit funky and unsettled when you pop ...</td>\n",
       "      <td>7</td>\n",
       "      <td>NaN</td>\n",
       "      <td>NaN</td>\n",
       "      <td>NaN</td>\n",
       "      <td>NaN</td>\n",
       "      <td>NaN</td>\n",
       "      <td>NaN</td>\n",
       "      <td>NaN</td>\n",
       "    </tr>\n",
       "    <tr>\n",
       "      <th>designation</th>\n",
       "      <td>197701</td>\n",
       "      <td>47239</td>\n",
       "      <td>Reserve</td>\n",
       "      <td>4761</td>\n",
       "      <td>NaN</td>\n",
       "      <td>NaN</td>\n",
       "      <td>NaN</td>\n",
       "      <td>NaN</td>\n",
       "      <td>NaN</td>\n",
       "      <td>NaN</td>\n",
       "      <td>NaN</td>\n",
       "    </tr>\n",
       "    <tr>\n",
       "      <th>points</th>\n",
       "      <td>280901.0</td>\n",
       "      <td>NaN</td>\n",
       "      <td>NaN</td>\n",
       "      <td>NaN</td>\n",
       "      <td>88.146934</td>\n",
       "      <td>3.151528</td>\n",
       "      <td>80.0</td>\n",
       "      <td>86.0</td>\n",
       "      <td>88.0</td>\n",
       "      <td>90.0</td>\n",
       "      <td>100.0</td>\n",
       "    </tr>\n",
       "    <tr>\n",
       "      <th>price</th>\n",
       "      <td>258210.0</td>\n",
       "      <td>NaN</td>\n",
       "      <td>NaN</td>\n",
       "      <td>NaN</td>\n",
       "      <td>34.177162</td>\n",
       "      <td>38.611708</td>\n",
       "      <td>4.0</td>\n",
       "      <td>16.0</td>\n",
       "      <td>25.0</td>\n",
       "      <td>40.0</td>\n",
       "      <td>3300.0</td>\n",
       "    </tr>\n",
       "    <tr>\n",
       "      <th>province</th>\n",
       "      <td>280833</td>\n",
       "      <td>490</td>\n",
       "      <td>California</td>\n",
       "      <td>80755</td>\n",
       "      <td>NaN</td>\n",
       "      <td>NaN</td>\n",
       "      <td>NaN</td>\n",
       "      <td>NaN</td>\n",
       "      <td>NaN</td>\n",
       "      <td>NaN</td>\n",
       "      <td>NaN</td>\n",
       "    </tr>\n",
       "    <tr>\n",
       "      <th>region_1</th>\n",
       "      <td>234594</td>\n",
       "      <td>1332</td>\n",
       "      <td>Napa Valley</td>\n",
       "      <td>10689</td>\n",
       "      <td>NaN</td>\n",
       "      <td>NaN</td>\n",
       "      <td>NaN</td>\n",
       "      <td>NaN</td>\n",
       "      <td>NaN</td>\n",
       "      <td>NaN</td>\n",
       "      <td>NaN</td>\n",
       "    </tr>\n",
       "    <tr>\n",
       "      <th>region_2</th>\n",
       "      <td>111464</td>\n",
       "      <td>18</td>\n",
       "      <td>Central Coast</td>\n",
       "      <td>24122</td>\n",
       "      <td>NaN</td>\n",
       "      <td>NaN</td>\n",
       "      <td>NaN</td>\n",
       "      <td>NaN</td>\n",
       "      <td>NaN</td>\n",
       "      <td>NaN</td>\n",
       "      <td>NaN</td>\n",
       "    </tr>\n",
       "    <tr>\n",
       "      <th>taster_name</th>\n",
       "      <td>103727</td>\n",
       "      <td>19</td>\n",
       "      <td>Roger Voss</td>\n",
       "      <td>25514</td>\n",
       "      <td>NaN</td>\n",
       "      <td>NaN</td>\n",
       "      <td>NaN</td>\n",
       "      <td>NaN</td>\n",
       "      <td>NaN</td>\n",
       "      <td>NaN</td>\n",
       "      <td>NaN</td>\n",
       "    </tr>\n",
       "    <tr>\n",
       "      <th>taster_twitter_handle</th>\n",
       "      <td>98758</td>\n",
       "      <td>15</td>\n",
       "      <td>@vossroger</td>\n",
       "      <td>25514</td>\n",
       "      <td>NaN</td>\n",
       "      <td>NaN</td>\n",
       "      <td>NaN</td>\n",
       "      <td>NaN</td>\n",
       "      <td>NaN</td>\n",
       "      <td>NaN</td>\n",
       "      <td>NaN</td>\n",
       "    </tr>\n",
       "    <tr>\n",
       "      <th>title</th>\n",
       "      <td>129971</td>\n",
       "      <td>118840</td>\n",
       "      <td>Gloria Ferrer NV Sonoma Brut Sparkling (Sonoma...</td>\n",
       "      <td>11</td>\n",
       "      <td>NaN</td>\n",
       "      <td>NaN</td>\n",
       "      <td>NaN</td>\n",
       "      <td>NaN</td>\n",
       "      <td>NaN</td>\n",
       "      <td>NaN</td>\n",
       "      <td>NaN</td>\n",
       "    </tr>\n",
       "    <tr>\n",
       "      <th>variety</th>\n",
       "      <td>280900</td>\n",
       "      <td>756</td>\n",
       "      <td>Pinot Noir</td>\n",
       "      <td>27563</td>\n",
       "      <td>NaN</td>\n",
       "      <td>NaN</td>\n",
       "      <td>NaN</td>\n",
       "      <td>NaN</td>\n",
       "      <td>NaN</td>\n",
       "      <td>NaN</td>\n",
       "      <td>NaN</td>\n",
       "    </tr>\n",
       "    <tr>\n",
       "      <th>winery</th>\n",
       "      <td>280901</td>\n",
       "      <td>19186</td>\n",
       "      <td>Williams Selyem</td>\n",
       "      <td>585</td>\n",
       "      <td>NaN</td>\n",
       "      <td>NaN</td>\n",
       "      <td>NaN</td>\n",
       "      <td>NaN</td>\n",
       "      <td>NaN</td>\n",
       "      <td>NaN</td>\n",
       "      <td>NaN</td>\n",
       "    </tr>\n",
       "  </tbody>\n",
       "</table>\n",
       "</div>"
      ],
      "text/plain": [
       "                          count  unique  \\\n",
       "Index_P                280901.0     NaN   \n",
       "country                  280833      50   \n",
       "description              280901  169430   \n",
       "designation              197701   47239   \n",
       "points                 280901.0     NaN   \n",
       "price                  258210.0     NaN   \n",
       "province                 280833     490   \n",
       "region_1                 234594    1332   \n",
       "region_2                 111464      18   \n",
       "taster_name              103727      19   \n",
       "taster_twitter_handle     98758      15   \n",
       "title                    129971  118840   \n",
       "variety                  280900     756   \n",
       "winery                   280901   19186   \n",
       "\n",
       "                                                                     top  \\\n",
       "Index_P                                                              NaN   \n",
       "country                                                               US   \n",
       "description            A little bit funky and unsettled when you pop ...   \n",
       "designation                                                      Reserve   \n",
       "points                                                               NaN   \n",
       "price                                                                NaN   \n",
       "province                                                      California   \n",
       "region_1                                                     Napa Valley   \n",
       "region_2                                                   Central Coast   \n",
       "taster_name                                                   Roger Voss   \n",
       "taster_twitter_handle                                         @vossroger   \n",
       "title                  Gloria Ferrer NV Sonoma Brut Sparkling (Sonoma...   \n",
       "variety                                                       Pinot Noir   \n",
       "winery                                                   Williams Selyem   \n",
       "\n",
       "                         freq         mean           std   min      25%  \\\n",
       "Index_P                   NaN  70615.70596  41214.379445   0.0  35112.0   \n",
       "country                116901          NaN           NaN   NaN      NaN   \n",
       "description                 7          NaN           NaN   NaN      NaN   \n",
       "designation              4761          NaN           NaN   NaN      NaN   \n",
       "points                    NaN    88.146934      3.151528  80.0     86.0   \n",
       "price                     NaN    34.177162     38.611708   4.0     16.0   \n",
       "province                80755          NaN           NaN   NaN      NaN   \n",
       "region_1                10689          NaN           NaN   NaN      NaN   \n",
       "region_2                24122          NaN           NaN   NaN      NaN   \n",
       "taster_name             25514          NaN           NaN   NaN      NaN   \n",
       "taster_twitter_handle   25514          NaN           NaN   NaN      NaN   \n",
       "title                      11          NaN           NaN   NaN      NaN   \n",
       "variety                 27563          NaN           NaN   NaN      NaN   \n",
       "winery                    585          NaN           NaN   NaN      NaN   \n",
       "\n",
       "                           50%       75%       max  \n",
       "Index_P                70225.0  105337.0  150929.0  \n",
       "country                    NaN       NaN       NaN  \n",
       "description                NaN       NaN       NaN  \n",
       "designation                NaN       NaN       NaN  \n",
       "points                    88.0      90.0     100.0  \n",
       "price                     25.0      40.0    3300.0  \n",
       "province                   NaN       NaN       NaN  \n",
       "region_1                   NaN       NaN       NaN  \n",
       "region_2                   NaN       NaN       NaN  \n",
       "taster_name                NaN       NaN       NaN  \n",
       "taster_twitter_handle      NaN       NaN       NaN  \n",
       "title                      NaN       NaN       NaN  \n",
       "variety                    NaN       NaN       NaN  \n",
       "winery                     NaN       NaN       NaN  "
      ]
     },
     "execution_count": 7,
     "metadata": {},
     "output_type": "execute_result"
    }
   ],
   "source": [
    "wines.describe(include='all',).T"
   ]
  },
  {
   "cell_type": "code",
   "execution_count": 8,
   "id": "12ad41c3",
   "metadata": {},
   "outputs": [
    {
     "data": {
      "text/plain": [
       "Index_P                    int64\n",
       "country                   object\n",
       "description               object\n",
       "designation               object\n",
       "points                     int64\n",
       "price                    float64\n",
       "province                  object\n",
       "region_1                  object\n",
       "region_2                  object\n",
       "taster_name               object\n",
       "taster_twitter_handle     object\n",
       "title                     object\n",
       "variety                   object\n",
       "winery                    object\n",
       "dtype: object"
      ]
     },
     "execution_count": 8,
     "metadata": {},
     "output_type": "execute_result"
    }
   ],
   "source": [
    "wines.dtypes"
   ]
  },
  {
   "cell_type": "markdown",
   "id": "d08974ff",
   "metadata": {},
   "source": [
    "#### Handling Missing Values"
   ]
  },
  {
   "cell_type": "code",
   "execution_count": 9,
   "id": "eb33576c",
   "metadata": {},
   "outputs": [
    {
     "name": "stdout",
     "output_type": "stream",
     "text": [
      "taster_twitter_handle    182143\n",
      "taster_name              177174\n",
      "region_2                 169437\n",
      "title                    150930\n",
      "designation               83200\n",
      "region_1                  46307\n",
      "price                     22691\n",
      "country                      68\n",
      "province                     68\n",
      "variety                       1\n",
      "dtype: int64\n"
     ]
    }
   ],
   "source": [
    "missing_val_count_by_column = (wines.isnull().sum())\n",
    "print(missing_val_count_by_column[missing_val_count_by_column > 0].sort_values(ascending=False))"
   ]
  },
  {
   "cell_type": "code",
   "execution_count": 10,
   "id": "fdb7e069",
   "metadata": {},
   "outputs": [
    {
     "name": "stdout",
     "output_type": "stream",
     "text": [
      "21.156894625305203\n"
     ]
    }
   ],
   "source": [
    "percent_missing = ((wines.isnull().sum().sum())/np.product(wines.shape)*100)\n",
    "print(percent_missing)"
   ]
  },
  {
   "cell_type": "markdown",
   "id": "b8f40e36",
   "metadata": {},
   "source": [
    "For me it doesn't make sense to deal with priceless neighbors, excludes the empty values of provincial parents and variety for being too small to deal"
   ]
  },
  {
   "cell_type": "code",
   "execution_count": 11,
   "id": "6c64ae42",
   "metadata": {},
   "outputs": [
    {
     "data": {
      "text/plain": [
       "(280901, 14)"
      ]
     },
     "execution_count": 11,
     "metadata": {},
     "output_type": "execute_result"
    }
   ],
   "source": [
    "wines.shape"
   ]
  },
  {
   "cell_type": "code",
   "execution_count": 12,
   "id": "9b7681fd",
   "metadata": {},
   "outputs": [],
   "source": [
    "wines.dropna(subset=['price','country', 'province', 'variety'], inplace=True)"
   ]
  },
  {
   "cell_type": "code",
   "execution_count": 13,
   "id": "54a5e096",
   "metadata": {},
   "outputs": [
    {
     "data": {
      "text/plain": [
       "(258145, 14)"
      ]
     },
     "execution_count": 13,
     "metadata": {},
     "output_type": "execute_result"
    }
   ],
   "source": [
    "wines.shape"
   ]
  },
  {
   "cell_type": "code",
   "execution_count": 14,
   "id": "5a4129e6",
   "metadata": {},
   "outputs": [
    {
     "name": "stdout",
     "output_type": "stream",
     "text": [
      "taster_twitter_handle    166645\n",
      "taster_name              161725\n",
      "region_2                 147149\n",
      "title                    137230\n",
      "designation               77078\n",
      "region_1                  42352\n",
      "dtype: int64\n"
     ]
    }
   ],
   "source": [
    "missing_val_count_by_column = (wines.isnull().sum())\n",
    "print(missing_val_count_by_column[missing_val_count_by_column > 0].sort_values(ascending=False))"
   ]
  },
  {
   "cell_type": "markdown",
   "id": "a67a823b",
   "metadata": {},
   "source": [
    "### Distribution of Wine Reviews by Top 10 Countries"
   ]
  },
  {
   "cell_type": "code",
   "execution_count": 16,
   "id": "94dc9736",
   "metadata": {},
   "outputs": [
    {
     "data": {
      "image/png": "[encoded data removed]",
      "text/plain": [
       "<Figure size 1008x720 with 1 Axes>"
      ]
     },
     "metadata": {},
     "output_type": "display_data"
    }
   ],
   "source": [
    "#print('Number of country list in data:',wine['country'].nunique())\n",
    "plt.figure(figsize=(14,10))\n",
    "cnt = wines['country'].value_counts().to_frame()[0:10]\n",
    "sns.barplot(x= cnt['country'], y =cnt.index, data=cnt, palette='Set2',orient='h')\n",
    "plt.title('Distribution of Wine Reviews by Top 10 Countries');"
   ]
  },
  {
   "cell_type": "markdown",
   "id": "00be39f1",
   "metadata": {},
   "source": [
    "### Distribution of wine price"
   ]
  },
  {
   "cell_type": "code",
   "execution_count": 17,
   "id": "e75fa028",
   "metadata": {},
   "outputs": [
    {
     "data": {
      "text/plain": [
       "Text(0.5, 1.0, 'Distribution of price')"
      ]
     },
     "execution_count": 17,
     "metadata": {},
     "output_type": "execute_result"
    },
    {
     "data": {
      "image/png": "[encoded data removed]",
      "text/plain": [
       "<Figure size 576x576 with 1 Axes>"
      ]
     },
     "metadata": {},
     "output_type": "display_data"
    }
   ],
   "source": [
    "sns.displot(data = wines,color='r', x=\"price\", kind=\"ecdf\", height=8)\n",
    "plt.title('Distribution of price')"
   ]
  },
  {
   "cell_type": "code",
   "execution_count": 18,
   "id": "09e677cb",
   "metadata": {},
   "outputs": [
    {
     "data": {
      "text/plain": [
       "Text(0.5, 1.0, 'Boxplot of price')"
      ]
     },
     "execution_count": 18,
     "metadata": {},
     "output_type": "execute_result"
    },
    {
     "data": {
      "image/png": "[encoded data removed]",
      "text/plain": [
       "<Figure size 1008x720 with 1 Axes>"
      ]
     },
     "metadata": {},
     "output_type": "display_data"
    }
   ],
   "source": [
    "plt.figure(figsize=(14,10))\n",
    "sns.boxplot(data=wines, x='price')\n",
    "plt.title('Boxplot of price')"
   ]
  },
  {
   "cell_type": "code",
   "execution_count": 19,
   "id": "edd3b7c4",
   "metadata": {},
   "outputs": [
    {
     "data": {
      "text/plain": [
       "count    258145.000000\n",
       "mean         34.179725\n",
       "std          38.615971\n",
       "min           4.000000\n",
       "25%          16.000000\n",
       "50%          25.000000\n",
       "75%          40.000000\n",
       "max        3300.000000\n",
       "Name: price, dtype: float64"
      ]
     },
     "execution_count": 19,
     "metadata": {},
     "output_type": "execute_result"
    }
   ],
   "source": [
    "mean_price = 34.179725\n",
    "std_price = 38.615971\n",
    "wines['price'].describe()"
   ]
  },
  {
   "cell_type": "code",
   "execution_count": 20,
   "id": "9b06a930",
   "metadata": {},
   "outputs": [
    {
     "data": {
      "text/plain": [
       "111.411667"
      ]
     },
     "execution_count": 20,
     "metadata": {},
     "output_type": "execute_result"
    }
   ],
   "source": [
    "good_price = mean_price + 2*std_price\n",
    "good_price"
   ]
  },
  {
   "cell_type": "code",
   "execution_count": 21,
   "id": "8ee4fa58",
   "metadata": {},
   "outputs": [
    {
     "data": {
      "text/plain": [
       "Text(0.5, 1.0, 'Distribution of price even the good price')"
      ]
     },
     "execution_count": 21,
     "metadata": {},
     "output_type": "execute_result"
    },
    {
     "data": {
      "image/png": "[encoded data removed]",
      "text/plain": [
       "<Figure size 576x576 with 1 Axes>"
      ]
     },
     "metadata": {},
     "output_type": "display_data"
    }
   ],
   "source": [
    "sns.displot(data = wines[wines['price']<good_price],color='b', x=\"price\", kde=True, height=8)\n",
    "plt.title('Distribution of price with the good price')"
   ]
  },
  {
   "cell_type": "code",
   "execution_count": 62,
   "id": "145e599e",
   "metadata": {},
   "outputs": [
    {
     "data": {
      "text/plain": [
       "Text(0.5, 1.0, 'Distribution of points with the good price')"
      ]
     },
     "execution_count": 62,
     "metadata": {},
     "output_type": "execute_result"
    },
    {
     "data": {
      "image/png": "[encoded data removed]",
      "text/plain": [
       "<Figure size 576x576 with 1 Axes>"
      ]
     },
     "metadata": {},
     "output_type": "display_data"
    }
   ],
   "source": [
    "sns.displot(data = wines[wines['price']<good_price],color='b', x=\"points\", height=8)\n",
    "plt.title('Distribution of points with the good price')"
   ]
  },
  {
   "cell_type": "code",
   "execution_count": 22,
   "id": "bcaeb64d",
   "metadata": {},
   "outputs": [
    {
     "data": {
      "text/plain": [
       "Text(0.5, 1.0, 'Boxplot of price even the good price')"
      ]
     },
     "execution_count": 22,
     "metadata": {},
     "output_type": "execute_result"
    },
    {
     "data": {
      "image/png": "[encoded data removed]",
      "text/plain": [
       "<Figure size 1008x720 with 1 Axes>"
      ]
     },
     "metadata": {},
     "output_type": "display_data"
    }
   ],
   "source": [
    "plt.figure(figsize=(14,10))\n",
    "sns.boxplot(data=wines[wines['price']<111], x='price')\n",
    "plt.title('Boxplot of price with the good price')"
   ]
  },
  {
   "cell_type": "code",
   "execution_count": 33,
   "id": "49c072d5",
   "metadata": {},
   "outputs": [
    {
     "name": "stdout",
     "output_type": "stream",
     "text": [
      "97.75%\n"
     ]
    }
   ],
   "source": [
    "wines_good_price = wines[wines['price']<good_price]\n",
    "\n",
    "print('{}%'.format(round(wines_good_price.shape[0]/wines.shape[0]*100,2)))"
   ]
  },
  {
   "cell_type": "markdown",
   "id": "e05b6021",
   "metadata": {},
   "source": [
    "### Top 10 Wines (ordered by price with a score equal to or greater than 99)"
   ]
  },
  {
   "cell_type": "code",
   "execution_count": 87,
   "id": "9a201bc4",
   "metadata": {},
   "outputs": [
    {
     "data": {
      "text/html": [
       "<div>\n",
       "<style scoped>\n",
       "    .dataframe tbody tr th:only-of-type {\n",
       "        vertical-align: middle;\n",
       "    }\n",
       "\n",
       "    .dataframe tbody tr th {\n",
       "        vertical-align: top;\n",
       "    }\n",
       "\n",
       "    .dataframe thead th {\n",
       "        text-align: right;\n",
       "    }\n",
       "</style>\n",
       "<table border=\"1\" class=\"dataframe\">\n",
       "  <thead>\n",
       "    <tr style=\"text-align: right;\">\n",
       "      <th></th>\n",
       "      <th>Index_P</th>\n",
       "      <th>country</th>\n",
       "      <th>description</th>\n",
       "      <th>designation</th>\n",
       "      <th>points</th>\n",
       "      <th>price</th>\n",
       "      <th>province</th>\n",
       "      <th>region_1</th>\n",
       "      <th>region_2</th>\n",
       "      <th>taster_name</th>\n",
       "      <th>taster_twitter_handle</th>\n",
       "      <th>title</th>\n",
       "      <th>variety</th>\n",
       "      <th>winery</th>\n",
       "    </tr>\n",
       "  </thead>\n",
       "  <tbody>\n",
       "    <tr>\n",
       "      <th>118059</th>\n",
       "      <td>118059</td>\n",
       "      <td>US</td>\n",
       "      <td>Shows classic, full-throttle notes of tropical...</td>\n",
       "      <td>Estate Vineyard</td>\n",
       "      <td>99</td>\n",
       "      <td>44.0</td>\n",
       "      <td>California</td>\n",
       "      <td>Sonoma Coast</td>\n",
       "      <td>Sonoma</td>\n",
       "      <td>NaN</td>\n",
       "      <td>NaN</td>\n",
       "      <td>Failla 2010 Estate Vineyard Chardonnay (Sonoma...</td>\n",
       "      <td>Chardonnay</td>\n",
       "      <td>Failla</td>\n",
       "    </tr>\n",
       "    <tr>\n",
       "      <th>119196</th>\n",
       "      <td>119196</td>\n",
       "      <td>US</td>\n",
       "      <td>The only one of the Cayuse Syrahs that is co-f...</td>\n",
       "      <td>Cailloux Vineyard</td>\n",
       "      <td>99</td>\n",
       "      <td>65.0</td>\n",
       "      <td>Oregon</td>\n",
       "      <td>Walla Walla Valley (OR)</td>\n",
       "      <td>Oregon Other</td>\n",
       "      <td>NaN</td>\n",
       "      <td>NaN</td>\n",
       "      <td>NaN</td>\n",
       "      <td>Syrah</td>\n",
       "      <td>Cayuse</td>\n",
       "    </tr>\n",
       "    <tr>\n",
       "      <th>19354</th>\n",
       "      <td>19354</td>\n",
       "      <td>US</td>\n",
       "      <td>In a stunning lineup of Cayuse Syrahs, the En ...</td>\n",
       "      <td>En Chamberlin Vineyard</td>\n",
       "      <td>100</td>\n",
       "      <td>65.0</td>\n",
       "      <td>Oregon</td>\n",
       "      <td>Walla Walla Valley (OR)</td>\n",
       "      <td>Oregon Other</td>\n",
       "      <td>NaN</td>\n",
       "      <td>NaN</td>\n",
       "      <td>NaN</td>\n",
       "      <td>Syrah</td>\n",
       "      <td>Cayuse</td>\n",
       "    </tr>\n",
       "    <tr>\n",
       "      <th>19356</th>\n",
       "      <td>19356</td>\n",
       "      <td>US</td>\n",
       "      <td>The only one of the Cayuse Syrahs that is co-f...</td>\n",
       "      <td>Cailloux Vineyard</td>\n",
       "      <td>99</td>\n",
       "      <td>65.0</td>\n",
       "      <td>Oregon</td>\n",
       "      <td>Walla Walla Valley (OR)</td>\n",
       "      <td>Oregon Other</td>\n",
       "      <td>NaN</td>\n",
       "      <td>NaN</td>\n",
       "      <td>NaN</td>\n",
       "      <td>Syrah</td>\n",
       "      <td>Cayuse</td>\n",
       "    </tr>\n",
       "    <tr>\n",
       "      <th>119194</th>\n",
       "      <td>119194</td>\n",
       "      <td>US</td>\n",
       "      <td>In a stunning lineup of Cayuse Syrahs, the En ...</td>\n",
       "      <td>En Chamberlin Vineyard</td>\n",
       "      <td>100</td>\n",
       "      <td>65.0</td>\n",
       "      <td>Oregon</td>\n",
       "      <td>Walla Walla Valley (OR)</td>\n",
       "      <td>Oregon Other</td>\n",
       "      <td>NaN</td>\n",
       "      <td>NaN</td>\n",
       "      <td>NaN</td>\n",
       "      <td>Syrah</td>\n",
       "      <td>Cayuse</td>\n",
       "    </tr>\n",
       "    <tr>\n",
       "      <th>84034</th>\n",
       "      <td>84034</td>\n",
       "      <td>US</td>\n",
       "      <td>In a stunning lineup of Cayuse Syrahs, the En ...</td>\n",
       "      <td>En Chamberlin Vineyard</td>\n",
       "      <td>100</td>\n",
       "      <td>65.0</td>\n",
       "      <td>Oregon</td>\n",
       "      <td>Walla Walla Valley (OR)</td>\n",
       "      <td>Oregon Other</td>\n",
       "      <td>NaN</td>\n",
       "      <td>NaN</td>\n",
       "      <td>NaN</td>\n",
       "      <td>Syrah</td>\n",
       "      <td>Cayuse</td>\n",
       "    </tr>\n",
       "    <tr>\n",
       "      <th>84036</th>\n",
       "      <td>84036</td>\n",
       "      <td>US</td>\n",
       "      <td>The only one of the Cayuse Syrahs that is co-f...</td>\n",
       "      <td>Cailloux Vineyard</td>\n",
       "      <td>99</td>\n",
       "      <td>65.0</td>\n",
       "      <td>Oregon</td>\n",
       "      <td>Walla Walla Valley (OR)</td>\n",
       "      <td>Oregon Other</td>\n",
       "      <td>NaN</td>\n",
       "      <td>NaN</td>\n",
       "      <td>NaN</td>\n",
       "      <td>Syrah</td>\n",
       "      <td>Cayuse</td>\n",
       "    </tr>\n",
       "    <tr>\n",
       "      <th>47428</th>\n",
       "      <td>47428</td>\n",
       "      <td>US</td>\n",
       "      <td>In a vintage that produced the finest overall ...</td>\n",
       "      <td>En Chamberlin Vineyard</td>\n",
       "      <td>99</td>\n",
       "      <td>75.0</td>\n",
       "      <td>Oregon</td>\n",
       "      <td>Walla Walla Valley (OR)</td>\n",
       "      <td>Oregon Other</td>\n",
       "      <td>Paul Gregutt</td>\n",
       "      <td>@paulgwine</td>\n",
       "      <td>Cayuse 2009 En Chamberlin Vineyard Syrah (Wall...</td>\n",
       "      <td>Syrah</td>\n",
       "      <td>Cayuse</td>\n",
       "    </tr>\n",
       "    <tr>\n",
       "      <th>47429</th>\n",
       "      <td>47429</td>\n",
       "      <td>US</td>\n",
       "      <td>This expresses the greatness of its vintage an...</td>\n",
       "      <td>Hirsch Vineyard</td>\n",
       "      <td>99</td>\n",
       "      <td>75.0</td>\n",
       "      <td>California</td>\n",
       "      <td>Sonoma Coast</td>\n",
       "      <td>Sonoma</td>\n",
       "      <td>NaN</td>\n",
       "      <td>NaN</td>\n",
       "      <td>Williams Selyem 2010 Hirsch Vineyard Pinot Noi...</td>\n",
       "      <td>Pinot Noir</td>\n",
       "      <td>Williams Selyem</td>\n",
       "    </tr>\n",
       "    <tr>\n",
       "      <th>47894</th>\n",
       "      <td>47894</td>\n",
       "      <td>US</td>\n",
       "      <td>Dark and concentrated, this sends up complex a...</td>\n",
       "      <td>En Chamberlin Vineyard</td>\n",
       "      <td>99</td>\n",
       "      <td>75.0</td>\n",
       "      <td>Oregon</td>\n",
       "      <td>Walla Walla Valley (OR)</td>\n",
       "      <td>Oregon Other</td>\n",
       "      <td>Paul Gregutt</td>\n",
       "      <td>@paulgwine</td>\n",
       "      <td>Cayuse 2011 En Chamberlin Vineyard Syrah (Wall...</td>\n",
       "      <td>Syrah</td>\n",
       "      <td>Cayuse</td>\n",
       "    </tr>\n",
       "  </tbody>\n",
       "</table>\n",
       "</div>"
      ],
      "text/plain": [
       "        Index_P country                                        description  \\\n",
       "118059   118059      US  Shows classic, full-throttle notes of tropical...   \n",
       "119196   119196      US  The only one of the Cayuse Syrahs that is co-f...   \n",
       "19354     19354      US  In a stunning lineup of Cayuse Syrahs, the En ...   \n",
       "19356     19356      US  The only one of the Cayuse Syrahs that is co-f...   \n",
       "119194   119194      US  In a stunning lineup of Cayuse Syrahs, the En ...   \n",
       "84034     84034      US  In a stunning lineup of Cayuse Syrahs, the En ...   \n",
       "84036     84036      US  The only one of the Cayuse Syrahs that is co-f...   \n",
       "47428     47428      US  In a vintage that produced the finest overall ...   \n",
       "47429     47429      US  This expresses the greatness of its vintage an...   \n",
       "47894     47894      US  Dark and concentrated, this sends up complex a...   \n",
       "\n",
       "                   designation  points  price    province  \\\n",
       "118059         Estate Vineyard      99   44.0  California   \n",
       "119196       Cailloux Vineyard      99   65.0      Oregon   \n",
       "19354   En Chamberlin Vineyard     100   65.0      Oregon   \n",
       "19356        Cailloux Vineyard      99   65.0      Oregon   \n",
       "119194  En Chamberlin Vineyard     100   65.0      Oregon   \n",
       "84034   En Chamberlin Vineyard     100   65.0      Oregon   \n",
       "84036        Cailloux Vineyard      99   65.0      Oregon   \n",
       "47428   En Chamberlin Vineyard      99   75.0      Oregon   \n",
       "47429          Hirsch Vineyard      99   75.0  California   \n",
       "47894   En Chamberlin Vineyard      99   75.0      Oregon   \n",
       "\n",
       "                       region_1      region_2   taster_name  \\\n",
       "118059             Sonoma Coast        Sonoma           NaN   \n",
       "119196  Walla Walla Valley (OR)  Oregon Other           NaN   \n",
       "19354   Walla Walla Valley (OR)  Oregon Other           NaN   \n",
       "19356   Walla Walla Valley (OR)  Oregon Other           NaN   \n",
       "119194  Walla Walla Valley (OR)  Oregon Other           NaN   \n",
       "84034   Walla Walla Valley (OR)  Oregon Other           NaN   \n",
       "84036   Walla Walla Valley (OR)  Oregon Other           NaN   \n",
       "47428   Walla Walla Valley (OR)  Oregon Other  Paul Gregutt   \n",
       "47429              Sonoma Coast        Sonoma           NaN   \n",
       "47894   Walla Walla Valley (OR)  Oregon Other  Paul Gregutt   \n",
       "\n",
       "       taster_twitter_handle  \\\n",
       "118059                   NaN   \n",
       "119196                   NaN   \n",
       "19354                    NaN   \n",
       "19356                    NaN   \n",
       "119194                   NaN   \n",
       "84034                    NaN   \n",
       "84036                    NaN   \n",
       "47428            @paulgwine    \n",
       "47429                    NaN   \n",
       "47894            @paulgwine    \n",
       "\n",
       "                                                    title     variety  \\\n",
       "118059  Failla 2010 Estate Vineyard Chardonnay (Sonoma...  Chardonnay   \n",
       "119196                                                NaN       Syrah   \n",
       "19354                                                 NaN       Syrah   \n",
       "19356                                                 NaN       Syrah   \n",
       "119194                                                NaN       Syrah   \n",
       "84034                                                 NaN       Syrah   \n",
       "84036                                                 NaN       Syrah   \n",
       "47428   Cayuse 2009 En Chamberlin Vineyard Syrah (Wall...       Syrah   \n",
       "47429   Williams Selyem 2010 Hirsch Vineyard Pinot Noi...  Pinot Noir   \n",
       "47894   Cayuse 2011 En Chamberlin Vineyard Syrah (Wall...       Syrah   \n",
       "\n",
       "                 winery  \n",
       "118059           Failla  \n",
       "119196           Cayuse  \n",
       "19354            Cayuse  \n",
       "19356            Cayuse  \n",
       "119194           Cayuse  \n",
       "84034            Cayuse  \n",
       "84036            Cayuse  \n",
       "47428            Cayuse  \n",
       "47429   Williams Selyem  \n",
       "47894            Cayuse  "
      ]
     },
     "execution_count": 87,
     "metadata": {},
     "output_type": "execute_result"
    }
   ],
   "source": [
    "top_10 = wines_good_price[wines_good_price['points'] >= 99].sort_values(by=['price'],ascending=True)\n",
    "top_10[:10]"
   ]
  },
  {
   "cell_type": "code",
   "execution_count": 72,
   "id": "b500f4d0",
   "metadata": {},
   "outputs": [
    {
     "data": {
      "image/png": "[encoded data removed]",
      "text/plain": [
       "<Figure size 576x576 with 3 Axes>"
      ]
     },
     "metadata": {},
     "output_type": "display_data"
    }
   ],
   "source": [
    "sns.jointplot( x = wines_good_price['points'],y = wines_good_price['price'],color='g', height=8);"
   ]
  },
  {
   "cell_type": "code",
   "execution_count": 78,
   "id": "c0e97e27",
   "metadata": {},
   "outputs": [
    {
     "data": {
      "text/html": [
       "<style  type=\"text/css\" >\n",
       "#T_8c56c_row0_col2,#T_8c56c_row1_col2,#T_8c56c_row2_col2,#T_8c56c_row8_col3,#T_8c56c_row12_col4,#T_8c56c_row12_col6,#T_8c56c_row13_col5{\n",
       "            background-color:  #3787c0;\n",
       "            color:  #000000;\n",
       "        }#T_8c56c_row0_col3,#T_8c56c_row4_col4,#T_8c56c_row6_col3{\n",
       "            background-color:  #eff6fc;\n",
       "            color:  #000000;\n",
       "        }#T_8c56c_row0_col4,#T_8c56c_row2_col6,#T_8c56c_row3_col4,#T_8c56c_row11_col4,#T_8c56c_row16_col6,#T_8c56c_row18_col6{\n",
       "            background-color:  #c2d9ee;\n",
       "            color:  #000000;\n",
       "        }#T_8c56c_row0_col5,#T_8c56c_row0_col6,#T_8c56c_row12_col3,#T_8c56c_row13_col2,#T_8c56c_row14_col2,#T_8c56c_row15_col2,#T_8c56c_row16_col2,#T_8c56c_row16_col3,#T_8c56c_row17_col2,#T_8c56c_row17_col4,#T_8c56c_row18_col2,#T_8c56c_row18_col3,#T_8c56c_row19_col2{\n",
       "            background-color:  #f7fbff;\n",
       "            color:  #000000;\n",
       "        }#T_8c56c_row1_col3,#T_8c56c_row2_col3,#T_8c56c_row7_col3,#T_8c56c_row14_col3,#T_8c56c_row19_col3{\n",
       "            background-color:  #f3f8fe;\n",
       "            color:  #000000;\n",
       "        }#T_8c56c_row1_col4{\n",
       "            background-color:  #3f8fc5;\n",
       "            color:  #000000;\n",
       "        }#T_8c56c_row1_col5,#T_8c56c_row4_col5,#T_8c56c_row15_col5{\n",
       "            background-color:  #69add5;\n",
       "            color:  #000000;\n",
       "        }#T_8c56c_row1_col6,#T_8c56c_row14_col6{\n",
       "            background-color:  #4594c7;\n",
       "            color:  #000000;\n",
       "        }#T_8c56c_row2_col4,#T_8c56c_row16_col4,#T_8c56c_row18_col4{\n",
       "            background-color:  #8abfdd;\n",
       "            color:  #000000;\n",
       "        }#T_8c56c_row2_col5,#T_8c56c_row15_col3,#T_8c56c_row16_col5,#T_8c56c_row18_col5{\n",
       "            background-color:  #cddff1;\n",
       "            color:  #000000;\n",
       "        }#T_8c56c_row3_col2,#T_8c56c_row4_col2{\n",
       "            background-color:  #82bbdb;\n",
       "            color:  #000000;\n",
       "        }#T_8c56c_row3_col3,#T_8c56c_row9_col3,#T_8c56c_row17_col3{\n",
       "            background-color:  #e3eef9;\n",
       "            color:  #000000;\n",
       "        }#T_8c56c_row3_col5,#T_8c56c_row11_col5{\n",
       "            background-color:  #dae8f6;\n",
       "            color:  #000000;\n",
       "        }#T_8c56c_row3_col6{\n",
       "            background-color:  #e6f0f9;\n",
       "            color:  #000000;\n",
       "        }#T_8c56c_row4_col3{\n",
       "            background-color:  #dce9f6;\n",
       "            color:  #000000;\n",
       "        }#T_8c56c_row4_col6{\n",
       "            background-color:  #b7d4ea;\n",
       "            color:  #000000;\n",
       "        }#T_8c56c_row5_col2,#T_8c56c_row6_col2,#T_8c56c_row7_col2,#T_8c56c_row8_col2,#T_8c56c_row9_col2,#T_8c56c_row10_col2,#T_8c56c_row11_col2,#T_8c56c_row12_col2{\n",
       "            background-color:  #ccdff1;\n",
       "            color:  #000000;\n",
       "        }#T_8c56c_row5_col3{\n",
       "            background-color:  #e7f1fa;\n",
       "            color:  #000000;\n",
       "        }#T_8c56c_row5_col4{\n",
       "            background-color:  #71b1d7;\n",
       "            color:  #000000;\n",
       "        }#T_8c56c_row5_col5{\n",
       "            background-color:  #7ab6d9;\n",
       "            color:  #000000;\n",
       "        }#T_8c56c_row5_col6{\n",
       "            background-color:  #72b2d8;\n",
       "            color:  #000000;\n",
       "        }#T_8c56c_row6_col4{\n",
       "            background-color:  #cde0f1;\n",
       "            color:  #000000;\n",
       "        }#T_8c56c_row6_col5{\n",
       "            background-color:  #c3daee;\n",
       "            color:  #000000;\n",
       "        }#T_8c56c_row6_col6{\n",
       "            background-color:  #e3eef8;\n",
       "            color:  #000000;\n",
       "        }#T_8c56c_row7_col4{\n",
       "            background-color:  #b0d2e7;\n",
       "            color:  #000000;\n",
       "        }#T_8c56c_row7_col5{\n",
       "            background-color:  #97c6df;\n",
       "            color:  #000000;\n",
       "        }#T_8c56c_row7_col6{\n",
       "            background-color:  #bdd7ec;\n",
       "            color:  #000000;\n",
       "        }#T_8c56c_row8_col4{\n",
       "            background-color:  #deebf7;\n",
       "            color:  #000000;\n",
       "        }#T_8c56c_row8_col5{\n",
       "            background-color:  #3b8bc2;\n",
       "            color:  #000000;\n",
       "        }#T_8c56c_row8_col6,#T_8c56c_row17_col6{\n",
       "            background-color:  #a6cee4;\n",
       "            color:  #000000;\n",
       "        }#T_8c56c_row9_col4{\n",
       "            background-color:  #e2edf8;\n",
       "            color:  #000000;\n",
       "        }#T_8c56c_row9_col5{\n",
       "            background-color:  #b9d6ea;\n",
       "            color:  #000000;\n",
       "        }#T_8c56c_row9_col6{\n",
       "            background-color:  #f5f9fe;\n",
       "            color:  #000000;\n",
       "        }#T_8c56c_row10_col3{\n",
       "            background-color:  #ebf3fb;\n",
       "            color:  #000000;\n",
       "        }#T_8c56c_row10_col4,#T_8c56c_row14_col4,#T_8c56c_row14_col5{\n",
       "            background-color:  #519ccc;\n",
       "            color:  #000000;\n",
       "        }#T_8c56c_row10_col5{\n",
       "            background-color:  #5fa6d1;\n",
       "            color:  #000000;\n",
       "        }#T_8c56c_row10_col6{\n",
       "            background-color:  #4e9acb;\n",
       "            color:  #000000;\n",
       "        }#T_8c56c_row11_col3{\n",
       "            background-color:  #d4e4f4;\n",
       "            color:  #000000;\n",
       "        }#T_8c56c_row11_col6{\n",
       "            background-color:  #e4eff9;\n",
       "            color:  #000000;\n",
       "        }#T_8c56c_row12_col5,#T_8c56c_row13_col6{\n",
       "            background-color:  #5ba3d0;\n",
       "            color:  #000000;\n",
       "        }#T_8c56c_row13_col3{\n",
       "            background-color:  #dfecf7;\n",
       "            color:  #000000;\n",
       "        }#T_8c56c_row13_col4{\n",
       "            background-color:  #61a7d2;\n",
       "            color:  #000000;\n",
       "        }#T_8c56c_row15_col4{\n",
       "            background-color:  #d8e7f5;\n",
       "            color:  #000000;\n",
       "        }#T_8c56c_row15_col6{\n",
       "            background-color:  #b2d2e8;\n",
       "            color:  #000000;\n",
       "        }#T_8c56c_row17_col5{\n",
       "            background-color:  #85bcdc;\n",
       "            color:  #000000;\n",
       "        }#T_8c56c_row19_col4{\n",
       "            background-color:  #b4d3e9;\n",
       "            color:  #000000;\n",
       "        }#T_8c56c_row19_col5{\n",
       "            background-color:  #ecf4fb;\n",
       "            color:  #000000;\n",
       "        }#T_8c56c_row19_col6{\n",
       "            background-color:  #eaf2fb;\n",
       "            color:  #000000;\n",
       "        }</style><table id=\"T_8c56c_\" ><thead>    <tr>        <th class=\"blank level0\" ></th>        <th class=\"col_heading level0 col0\" >province</th>        <th class=\"col_heading level0 col1\" >country</th>        <th class=\"col_heading level0 col2\" >points</th>        <th class=\"col_heading level0 col3\" >count</th>        <th class=\"col_heading level0 col4\" >min</th>        <th class=\"col_heading level0 col5\" >max</th>        <th class=\"col_heading level0 col6\" >mean</th>    </tr></thead><tbody>\n",
       "                <tr>\n",
       "                        <th id=\"T_8c56c_level0_row0\" class=\"row_heading level0 row0\" >0</th>\n",
       "                        <td id=\"T_8c56c_row0_col0\" class=\"data row0 col0\" >Oregon</td>\n",
       "                        <td id=\"T_8c56c_row0_col1\" class=\"data row0 col1\" >US</td>\n",
       "                        <td id=\"T_8c56c_row0_col2\" class=\"data row0 col2\" >100</td>\n",
       "                        <td id=\"T_8c56c_row0_col3\" class=\"data row0 col3\" >3</td>\n",
       "                        <td id=\"T_8c56c_row0_col4\" class=\"data row0 col4\" >65.000000</td>\n",
       "                        <td id=\"T_8c56c_row0_col5\" class=\"data row0 col5\" >65.000000</td>\n",
       "                        <td id=\"T_8c56c_row0_col6\" class=\"data row0 col6\" >65.000000</td>\n",
       "            </tr>\n",
       "            <tr>\n",
       "                        <th id=\"T_8c56c_level0_row1\" class=\"row_heading level0 row1\" >1</th>\n",
       "                        <td id=\"T_8c56c_row1_col0\" class=\"data row1 col0\" >California</td>\n",
       "                        <td id=\"T_8c56c_row1_col1\" class=\"data row1 col1\" >US</td>\n",
       "                        <td id=\"T_8c56c_row1_col2\" class=\"data row1 col2\" >100</td>\n",
       "                        <td id=\"T_8c56c_row1_col3\" class=\"data row1 col3\" >2</td>\n",
       "                        <td id=\"T_8c56c_row1_col4\" class=\"data row1 col4\" >100.000000</td>\n",
       "                        <td id=\"T_8c56c_row1_col5\" class=\"data row1 col5\" >100.000000</td>\n",
       "                        <td id=\"T_8c56c_row1_col6\" class=\"data row1 col6\" >100.000000</td>\n",
       "            </tr>\n",
       "            <tr>\n",
       "                        <th id=\"T_8c56c_level0_row2\" class=\"row_heading level0 row2\" >2</th>\n",
       "                        <td id=\"T_8c56c_row2_col0\" class=\"data row2 col0\" >Washington</td>\n",
       "                        <td id=\"T_8c56c_row2_col1\" class=\"data row2 col1\" >US</td>\n",
       "                        <td id=\"T_8c56c_row2_col2\" class=\"data row2 col2\" >100</td>\n",
       "                        <td id=\"T_8c56c_row2_col3\" class=\"data row2 col3\" >2</td>\n",
       "                        <td id=\"T_8c56c_row2_col4\" class=\"data row2 col4\" >80.000000</td>\n",
       "                        <td id=\"T_8c56c_row2_col5\" class=\"data row2 col5\" >80.000000</td>\n",
       "                        <td id=\"T_8c56c_row2_col6\" class=\"data row2 col6\" >80.000000</td>\n",
       "            </tr>\n",
       "            <tr>\n",
       "                        <th id=\"T_8c56c_level0_row3\" class=\"row_heading level0 row3\" >3</th>\n",
       "                        <td id=\"T_8c56c_row3_col0\" class=\"data row3 col0\" >Oregon</td>\n",
       "                        <td id=\"T_8c56c_row3_col1\" class=\"data row3 col1\" >US</td>\n",
       "                        <td id=\"T_8c56c_row3_col2\" class=\"data row3 col2\" >99</td>\n",
       "                        <td id=\"T_8c56c_row3_col3\" class=\"data row3 col3\" >6</td>\n",
       "                        <td id=\"T_8c56c_row3_col4\" class=\"data row3 col4\" >65.000000</td>\n",
       "                        <td id=\"T_8c56c_row3_col5\" class=\"data row3 col5\" >75.000000</td>\n",
       "                        <td id=\"T_8c56c_row3_col6\" class=\"data row3 col6\" >70.000000</td>\n",
       "            </tr>\n",
       "            <tr>\n",
       "                        <th id=\"T_8c56c_level0_row4\" class=\"row_heading level0 row4\" >4</th>\n",
       "                        <td id=\"T_8c56c_row4_col0\" class=\"data row4 col0\" >California</td>\n",
       "                        <td id=\"T_8c56c_row4_col1\" class=\"data row4 col1\" >US</td>\n",
       "                        <td id=\"T_8c56c_row4_col2\" class=\"data row4 col2\" >99</td>\n",
       "                        <td id=\"T_8c56c_row4_col3\" class=\"data row4 col3\" >8</td>\n",
       "                        <td id=\"T_8c56c_row4_col4\" class=\"data row4 col4\" >44.000000</td>\n",
       "                        <td id=\"T_8c56c_row4_col5\" class=\"data row4 col5\" >100.000000</td>\n",
       "                        <td id=\"T_8c56c_row4_col6\" class=\"data row4 col6\" >82.125000</td>\n",
       "            </tr>\n",
       "            <tr>\n",
       "                        <th id=\"T_8c56c_level0_row5\" class=\"row_heading level0 row5\" >5</th>\n",
       "                        <td id=\"T_8c56c_row5_col0\" class=\"data row5 col0\" >Victoria</td>\n",
       "                        <td id=\"T_8c56c_row5_col1\" class=\"data row5 col1\" >Australia</td>\n",
       "                        <td id=\"T_8c56c_row5_col2\" class=\"data row5 col2\" >98</td>\n",
       "                        <td id=\"T_8c56c_row5_col3\" class=\"data row5 col3\" >5</td>\n",
       "                        <td id=\"T_8c56c_row5_col4\" class=\"data row5 col4\" >86.000000</td>\n",
       "                        <td id=\"T_8c56c_row5_col5\" class=\"data row5 col5\" >97.000000</td>\n",
       "                        <td id=\"T_8c56c_row5_col6\" class=\"data row5 col6\" >92.600000</td>\n",
       "            </tr>\n",
       "            <tr>\n",
       "                        <th id=\"T_8c56c_level0_row6\" class=\"row_heading level0 row6\" >6</th>\n",
       "                        <td id=\"T_8c56c_row6_col0\" class=\"data row6 col0\" >Piedmont</td>\n",
       "                        <td id=\"T_8c56c_row6_col1\" class=\"data row6 col1\" >Italy</td>\n",
       "                        <td id=\"T_8c56c_row6_col2\" class=\"data row6 col2\" >98</td>\n",
       "                        <td id=\"T_8c56c_row6_col3\" class=\"data row6 col3\" >3</td>\n",
       "                        <td id=\"T_8c56c_row6_col4\" class=\"data row6 col4\" >60.000000</td>\n",
       "                        <td id=\"T_8c56c_row6_col5\" class=\"data row6 col5\" >83.000000</td>\n",
       "                        <td id=\"T_8c56c_row6_col6\" class=\"data row6 col6\" >71.000000</td>\n",
       "            </tr>\n",
       "            <tr>\n",
       "                        <th id=\"T_8c56c_level0_row7\" class=\"row_heading level0 row7\" >7</th>\n",
       "                        <td id=\"T_8c56c_row7_col0\" class=\"data row7 col0\" >Bordeaux</td>\n",
       "                        <td id=\"T_8c56c_row7_col1\" class=\"data row7 col1\" >France</td>\n",
       "                        <td id=\"T_8c56c_row7_col2\" class=\"data row7 col2\" >98</td>\n",
       "                        <td id=\"T_8c56c_row7_col3\" class=\"data row7 col3\" >2</td>\n",
       "                        <td id=\"T_8c56c_row7_col4\" class=\"data row7 col4\" >70.000000</td>\n",
       "                        <td id=\"T_8c56c_row7_col5\" class=\"data row7 col5\" >92.000000</td>\n",
       "                        <td id=\"T_8c56c_row7_col6\" class=\"data row7 col6\" >81.000000</td>\n",
       "            </tr>\n",
       "            <tr>\n",
       "                        <th id=\"T_8c56c_level0_row8\" class=\"row_heading level0 row8\" >8</th>\n",
       "                        <td id=\"T_8c56c_row8_col0\" class=\"data row8 col0\" >California</td>\n",
       "                        <td id=\"T_8c56c_row8_col1\" class=\"data row8 col1\" >US</td>\n",
       "                        <td id=\"T_8c56c_row8_col2\" class=\"data row8 col2\" >98</td>\n",
       "                        <td id=\"T_8c56c_row8_col3\" class=\"data row8 col3\" >35</td>\n",
       "                        <td id=\"T_8c56c_row8_col4\" class=\"data row8 col4\" >52.000000</td>\n",
       "                        <td id=\"T_8c56c_row8_col5\" class=\"data row8 col5\" >110.000000</td>\n",
       "                        <td id=\"T_8c56c_row8_col6\" class=\"data row8 col6\" >85.000000</td>\n",
       "            </tr>\n",
       "            <tr>\n",
       "                        <th id=\"T_8c56c_level0_row9\" class=\"row_heading level0 row9\" >9</th>\n",
       "                        <td id=\"T_8c56c_row9_col0\" class=\"data row9 col0\" >Washington</td>\n",
       "                        <td id=\"T_8c56c_row9_col1\" class=\"data row9 col1\" >US</td>\n",
       "                        <td id=\"T_8c56c_row9_col2\" class=\"data row9 col2\" >98</td>\n",
       "                        <td id=\"T_8c56c_row9_col3\" class=\"data row9 col3\" >6</td>\n",
       "                        <td id=\"T_8c56c_row9_col4\" class=\"data row9 col4\" >50.000000</td>\n",
       "                        <td id=\"T_8c56c_row9_col5\" class=\"data row9 col5\" >85.000000</td>\n",
       "                        <td id=\"T_8c56c_row9_col6\" class=\"data row9 col6\" >65.833333</td>\n",
       "            </tr>\n",
       "            <tr>\n",
       "                        <th id=\"T_8c56c_level0_row10\" class=\"row_heading level0 row10\" >10</th>\n",
       "                        <td id=\"T_8c56c_row10_col0\" class=\"data row10 col0\" >Tuscany</td>\n",
       "                        <td id=\"T_8c56c_row10_col1\" class=\"data row10 col1\" >Italy</td>\n",
       "                        <td id=\"T_8c56c_row10_col2\" class=\"data row10 col2\" >98</td>\n",
       "                        <td id=\"T_8c56c_row10_col3\" class=\"data row10 col3\" >4</td>\n",
       "                        <td id=\"T_8c56c_row10_col4\" class=\"data row10 col4\" >95.000000</td>\n",
       "                        <td id=\"T_8c56c_row10_col5\" class=\"data row10 col5\" >102.000000</td>\n",
       "                        <td id=\"T_8c56c_row10_col6\" class=\"data row10 col6\" >98.500000</td>\n",
       "            </tr>\n",
       "            <tr>\n",
       "                        <th id=\"T_8c56c_level0_row11\" class=\"row_heading level0 row11\" >11</th>\n",
       "                        <td id=\"T_8c56c_row11_col0\" class=\"data row11 col0\" >Oregon</td>\n",
       "                        <td id=\"T_8c56c_row11_col1\" class=\"data row11 col1\" >US</td>\n",
       "                        <td id=\"T_8c56c_row11_col2\" class=\"data row11 col2\" >98</td>\n",
       "                        <td id=\"T_8c56c_row11_col3\" class=\"data row11 col3\" >10</td>\n",
       "                        <td id=\"T_8c56c_row11_col4\" class=\"data row11 col4\" >65.000000</td>\n",
       "                        <td id=\"T_8c56c_row11_col5\" class=\"data row11 col5\" >75.000000</td>\n",
       "                        <td id=\"T_8c56c_row11_col6\" class=\"data row11 col6\" >70.500000</td>\n",
       "            </tr>\n",
       "            <tr>\n",
       "                        <th id=\"T_8c56c_level0_row12\" class=\"row_heading level0 row12\" >12</th>\n",
       "                        <td id=\"T_8c56c_row12_col0\" class=\"data row12 col0\" >Burgenland</td>\n",
       "                        <td id=\"T_8c56c_row12_col1\" class=\"data row12 col1\" >Austria</td>\n",
       "                        <td id=\"T_8c56c_row12_col2\" class=\"data row12 col2\" >98</td>\n",
       "                        <td id=\"T_8c56c_row12_col3\" class=\"data row12 col3\" >1</td>\n",
       "                        <td id=\"T_8c56c_row12_col4\" class=\"data row12 col4\" >103.000000</td>\n",
       "                        <td id=\"T_8c56c_row12_col5\" class=\"data row12 col5\" >103.000000</td>\n",
       "                        <td id=\"T_8c56c_row12_col6\" class=\"data row12 col6\" >103.000000</td>\n",
       "            </tr>\n",
       "            <tr>\n",
       "                        <th id=\"T_8c56c_level0_row13\" class=\"row_heading level0 row13\" >13</th>\n",
       "                        <td id=\"T_8c56c_row13_col0\" class=\"data row13 col0\" >Burgenland</td>\n",
       "                        <td id=\"T_8c56c_row13_col1\" class=\"data row13 col1\" >Austria</td>\n",
       "                        <td id=\"T_8c56c_row13_col2\" class=\"data row13 col2\" >97</td>\n",
       "                        <td id=\"T_8c56c_row13_col3\" class=\"data row13 col3\" >7</td>\n",
       "                        <td id=\"T_8c56c_row13_col4\" class=\"data row13 col4\" >90.000000</td>\n",
       "                        <td id=\"T_8c56c_row13_col5\" class=\"data row13 col5\" >111.000000</td>\n",
       "                        <td id=\"T_8c56c_row13_col6\" class=\"data row13 col6\" >96.285714</td>\n",
       "            </tr>\n",
       "            <tr>\n",
       "                        <th id=\"T_8c56c_level0_row14\" class=\"row_heading level0 row14\" >14</th>\n",
       "                        <td id=\"T_8c56c_row14_col0\" class=\"data row14 col0\" >South Australia</td>\n",
       "                        <td id=\"T_8c56c_row14_col1\" class=\"data row14 col1\" >Australia</td>\n",
       "                        <td id=\"T_8c56c_row14_col2\" class=\"data row14 col2\" >97</td>\n",
       "                        <td id=\"T_8c56c_row14_col3\" class=\"data row14 col3\" >2</td>\n",
       "                        <td id=\"T_8c56c_row14_col4\" class=\"data row14 col4\" >95.000000</td>\n",
       "                        <td id=\"T_8c56c_row14_col5\" class=\"data row14 col5\" >105.000000</td>\n",
       "                        <td id=\"T_8c56c_row14_col6\" class=\"data row14 col6\" >100.000000</td>\n",
       "            </tr>\n",
       "            <tr>\n",
       "                        <th id=\"T_8c56c_level0_row15\" class=\"row_heading level0 row15\" >15</th>\n",
       "                        <td id=\"T_8c56c_row15_col0\" class=\"data row15 col0\" >Piedmont</td>\n",
       "                        <td id=\"T_8c56c_row15_col1\" class=\"data row15 col1\" >Italy</td>\n",
       "                        <td id=\"T_8c56c_row15_col2\" class=\"data row15 col2\" >97</td>\n",
       "                        <td id=\"T_8c56c_row15_col3\" class=\"data row15 col3\" >12</td>\n",
       "                        <td id=\"T_8c56c_row15_col4\" class=\"data row15 col4\" >55.000000</td>\n",
       "                        <td id=\"T_8c56c_row15_col5\" class=\"data row15 col5\" >100.000000</td>\n",
       "                        <td id=\"T_8c56c_row15_col6\" class=\"data row15 col6\" >82.833333</td>\n",
       "            </tr>\n",
       "            <tr>\n",
       "                        <th id=\"T_8c56c_level0_row16\" class=\"row_heading level0 row16\" >16</th>\n",
       "                        <td id=\"T_8c56c_row16_col0\" class=\"data row16 col0\" >Tokaji</td>\n",
       "                        <td id=\"T_8c56c_row16_col1\" class=\"data row16 col1\" >Hungary</td>\n",
       "                        <td id=\"T_8c56c_row16_col2\" class=\"data row16 col2\" >97</td>\n",
       "                        <td id=\"T_8c56c_row16_col3\" class=\"data row16 col3\" >1</td>\n",
       "                        <td id=\"T_8c56c_row16_col4\" class=\"data row16 col4\" >80.000000</td>\n",
       "                        <td id=\"T_8c56c_row16_col5\" class=\"data row16 col5\" >80.000000</td>\n",
       "                        <td id=\"T_8c56c_row16_col6\" class=\"data row16 col6\" >80.000000</td>\n",
       "            </tr>\n",
       "            <tr>\n",
       "                        <th id=\"T_8c56c_level0_row17\" class=\"row_heading level0 row17\" >17</th>\n",
       "                        <td id=\"T_8c56c_row17_col0\" class=\"data row17 col0\" >Port</td>\n",
       "                        <td id=\"T_8c56c_row17_col1\" class=\"data row17 col1\" >Portugal</td>\n",
       "                        <td id=\"T_8c56c_row17_col2\" class=\"data row17 col2\" >97</td>\n",
       "                        <td id=\"T_8c56c_row17_col3\" class=\"data row17 col3\" >6</td>\n",
       "                        <td id=\"T_8c56c_row17_col4\" class=\"data row17 col4\" >40.000000</td>\n",
       "                        <td id=\"T_8c56c_row17_col5\" class=\"data row17 col5\" >95.000000</td>\n",
       "                        <td id=\"T_8c56c_row17_col6\" class=\"data row17 col6\" >85.000000</td>\n",
       "            </tr>\n",
       "            <tr>\n",
       "                        <th id=\"T_8c56c_level0_row18\" class=\"row_heading level0 row18\" >18</th>\n",
       "                        <td id=\"T_8c56c_row18_col0\" class=\"data row18 col0\" >Portugal</td>\n",
       "                        <td id=\"T_8c56c_row18_col1\" class=\"data row18 col1\" >Portugal</td>\n",
       "                        <td id=\"T_8c56c_row18_col2\" class=\"data row18 col2\" >97</td>\n",
       "                        <td id=\"T_8c56c_row18_col3\" class=\"data row18 col3\" >1</td>\n",
       "                        <td id=\"T_8c56c_row18_col4\" class=\"data row18 col4\" >80.000000</td>\n",
       "                        <td id=\"T_8c56c_row18_col5\" class=\"data row18 col5\" >80.000000</td>\n",
       "                        <td id=\"T_8c56c_row18_col6\" class=\"data row18 col6\" >80.000000</td>\n",
       "            </tr>\n",
       "            <tr>\n",
       "                        <th id=\"T_8c56c_level0_row19\" class=\"row_heading level0 row19\" >19</th>\n",
       "                        <td id=\"T_8c56c_row19_col0\" class=\"data row19 col0\" >Loire Valley</td>\n",
       "                        <td id=\"T_8c56c_row19_col1\" class=\"data row19 col1\" >France</td>\n",
       "                        <td id=\"T_8c56c_row19_col2\" class=\"data row19 col2\" >97</td>\n",
       "                        <td id=\"T_8c56c_row19_col3\" class=\"data row19 col3\" >2</td>\n",
       "                        <td id=\"T_8c56c_row19_col4\" class=\"data row19 col4\" >69.000000</td>\n",
       "                        <td id=\"T_8c56c_row19_col5\" class=\"data row19 col5\" >69.000000</td>\n",
       "                        <td id=\"T_8c56c_row19_col6\" class=\"data row19 col6\" >69.000000</td>\n",
       "            </tr>\n",
       "    </tbody></table>"
      ],
      "text/plain": [
       "<pandas.io.formats.style.Styler at 0x2258393e040>"
      ]
     },
     "execution_count": 78,
     "metadata": {},
     "output_type": "execute_result"
    }
   ],
   "source": [
    "cnt = wines_good_price.groupby(['province','country','points'])['price'].agg(['count','min','max','mean']).sort_values(by='points',ascending= False)[:20]\n",
    "cnt.reset_index(inplace=True)\n",
    "cnt.style.background_gradient(cmap='Blues',high=0.5)"
   ]
  },
  {
   "cell_type": "code",
   "execution_count": null,
   "id": "dd3c6158",
   "metadata": {},
   "outputs": [],
   "source": []
  }
 ],
 "metadata": {
  "kernelspec": {
   "display_name": "Python 3",
   "language": "python",
   "name": "python3"
  },
  "language_info": {
   "codemirror_mode": {
    "name": "ipython",
    "version": 3
   },
   "file_extension": ".py",
   "mimetype": "text/x-python",
   "name": "python",
   "nbconvert_exporter": "python",
   "pygments_lexer": "ipython3",
   "version": "3.8.8"
  }
 },
 "nbformat": 4,
 "nbformat_minor": 5
}
