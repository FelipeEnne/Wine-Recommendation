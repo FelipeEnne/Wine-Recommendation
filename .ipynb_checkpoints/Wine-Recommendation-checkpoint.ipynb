{
 "cells": [
  {
   "cell_type": "markdown",
   "id": "b64b8e07",
   "metadata": {},
   "source": [
    "## Wine Recommendation"
   ]
  },
  {
   "cell_type": "markdown",
   "id": "00bbc031",
   "metadata": {},
   "source": [
    "Analizing the database of wine reviews: [Wine Reviews](https://www.kaggle.com/zynicide/wine-reviews) \n",
    "\n",
    "\n",
    "inspired by [wine-recommender](https://www.kaggle.com/sudhirnl7/wine-recommender/notebook)"
   ]
  },
  {
   "cell_type": "markdown",
   "id": "4d934fc1",
   "metadata": {},
   "source": [
    "### Import and read csv"
   ]
  },
  {
   "cell_type": "code",
   "execution_count": 197,
   "id": "04bc2811",
   "metadata": {},
   "outputs": [],
   "source": [
    "import pandas as pd\n",
    "import numpy as np\n",
    "import matplotlib.pyplot as plt\n",
    "import seaborn as sns\n",
    "\n",
    "%matplotlib inline\n",
    "plt.style.use('fivethirtyeight')\n",
    "plt.rcParams.update({'font.size':12})"
   ]
  },
  {
   "cell_type": "code",
   "execution_count": 63,
   "id": "86aba2aa",
   "metadata": {},
   "outputs": [],
   "source": [
    "path = 'input/'\n",
    "path_150k = path + 'winemag-data_first150k.csv'\n",
    "path_130k = path + 'winemag-data-130k-v2.csv'\n",
    "\n",
    "wine_150k = pd.read_csv(path_150k)\n",
    "wine_130k = pd.read_csv(path_130k)"
   ]
  },
  {
   "cell_type": "code",
   "execution_count": 64,
   "id": "e0eb165c",
   "metadata": {
    "scrolled": true
   },
   "outputs": [
    {
     "name": "stdout",
     "output_type": "stream",
     "text": [
      "(150930, 11)\n",
      "(129971, 14)\n"
     ]
    }
   ],
   "source": [
    "print(wine_150k.shape)\n",
    "print(wine_130k.shape)"
   ]
  },
  {
   "cell_type": "markdown",
   "id": "b637d084",
   "metadata": {},
   "source": [
    "## Data Cleaning and Analyzing Data"
   ]
  },
  {
   "cell_type": "markdown",
   "id": "ff8c66ff",
   "metadata": {},
   "source": [
    "The wine_130k has more columns than wine_150k, but I don't see any problem to concatenate"
   ]
  },
  {
   "cell_type": "code",
   "execution_count": 108,
   "id": "76abf99a",
   "metadata": {},
   "outputs": [
    {
     "data": {
      "text/plain": [
       "['title', 'taster_twitter_handle', 'taster_name']"
      ]
     },
     "execution_count": 108,
     "metadata": {},
     "output_type": "execute_result"
    }
   ],
   "source": [
    "list(set(wine_130k.columns) - set( wine_150k.columns))"
   ]
  },
  {
   "cell_type": "code",
   "execution_count": 109,
   "id": "02f0ea0c",
   "metadata": {},
   "outputs": [],
   "source": [
    "wines = pd.concat([wine_130k, wine_150k], axis=0)"
   ]
  },
  {
   "cell_type": "code",
   "execution_count": 110,
   "id": "7f0b1cac",
   "metadata": {},
   "outputs": [
    {
     "data": {
      "text/html": [
       "<div>\n",
       "<style scoped>\n",
       "    .dataframe tbody tr th:only-of-type {\n",
       "        vertical-align: middle;\n",
       "    }\n",
       "\n",
       "    .dataframe tbody tr th {\n",
       "        vertical-align: top;\n",
       "    }\n",
       "\n",
       "    .dataframe thead th {\n",
       "        text-align: right;\n",
       "    }\n",
       "</style>\n",
       "<table border=\"1\" class=\"dataframe\">\n",
       "  <thead>\n",
       "    <tr style=\"text-align: right;\">\n",
       "      <th></th>\n",
       "      <th>Index_P</th>\n",
       "      <th>country</th>\n",
       "      <th>description</th>\n",
       "      <th>designation</th>\n",
       "      <th>points</th>\n",
       "      <th>price</th>\n",
       "      <th>province</th>\n",
       "      <th>region_1</th>\n",
       "      <th>region_2</th>\n",
       "      <th>taster_name</th>\n",
       "      <th>taster_twitter_handle</th>\n",
       "      <th>title</th>\n",
       "      <th>variety</th>\n",
       "      <th>winery</th>\n",
       "    </tr>\n",
       "  </thead>\n",
       "  <tbody>\n",
       "    <tr>\n",
       "      <th>0</th>\n",
       "      <td>0</td>\n",
       "      <td>Italy</td>\n",
       "      <td>Aromas include tropical fruit, broom, brimston...</td>\n",
       "      <td>Vulkà Bianco</td>\n",
       "      <td>87</td>\n",
       "      <td>NaN</td>\n",
       "      <td>Sicily &amp; Sardinia</td>\n",
       "      <td>Etna</td>\n",
       "      <td>NaN</td>\n",
       "      <td>Kerin O’Keefe</td>\n",
       "      <td>@kerinokeefe</td>\n",
       "      <td>Nicosia 2013 Vulkà Bianco  (Etna)</td>\n",
       "      <td>White Blend</td>\n",
       "      <td>Nicosia</td>\n",
       "    </tr>\n",
       "    <tr>\n",
       "      <th>1</th>\n",
       "      <td>1</td>\n",
       "      <td>Portugal</td>\n",
       "      <td>This is ripe and fruity, a wine that is smooth...</td>\n",
       "      <td>Avidagos</td>\n",
       "      <td>87</td>\n",
       "      <td>15.0</td>\n",
       "      <td>Douro</td>\n",
       "      <td>NaN</td>\n",
       "      <td>NaN</td>\n",
       "      <td>Roger Voss</td>\n",
       "      <td>@vossroger</td>\n",
       "      <td>Quinta dos Avidagos 2011 Avidagos Red (Douro)</td>\n",
       "      <td>Portuguese Red</td>\n",
       "      <td>Quinta dos Avidagos</td>\n",
       "    </tr>\n",
       "    <tr>\n",
       "      <th>2</th>\n",
       "      <td>2</td>\n",
       "      <td>US</td>\n",
       "      <td>Tart and snappy, the flavors of lime flesh and...</td>\n",
       "      <td>NaN</td>\n",
       "      <td>87</td>\n",
       "      <td>14.0</td>\n",
       "      <td>Oregon</td>\n",
       "      <td>Willamette Valley</td>\n",
       "      <td>Willamette Valley</td>\n",
       "      <td>Paul Gregutt</td>\n",
       "      <td>@paulgwine</td>\n",
       "      <td>Rainstorm 2013 Pinot Gris (Willamette Valley)</td>\n",
       "      <td>Pinot Gris</td>\n",
       "      <td>Rainstorm</td>\n",
       "    </tr>\n",
       "    <tr>\n",
       "      <th>3</th>\n",
       "      <td>3</td>\n",
       "      <td>US</td>\n",
       "      <td>Pineapple rind, lemon pith and orange blossom ...</td>\n",
       "      <td>Reserve Late Harvest</td>\n",
       "      <td>87</td>\n",
       "      <td>13.0</td>\n",
       "      <td>Michigan</td>\n",
       "      <td>Lake Michigan Shore</td>\n",
       "      <td>NaN</td>\n",
       "      <td>Alexander Peartree</td>\n",
       "      <td>NaN</td>\n",
       "      <td>St. Julian 2013 Reserve Late Harvest Riesling ...</td>\n",
       "      <td>Riesling</td>\n",
       "      <td>St. Julian</td>\n",
       "    </tr>\n",
       "    <tr>\n",
       "      <th>4</th>\n",
       "      <td>4</td>\n",
       "      <td>US</td>\n",
       "      <td>Much like the regular bottling from 2012, this...</td>\n",
       "      <td>Vintner's Reserve Wild Child Block</td>\n",
       "      <td>87</td>\n",
       "      <td>65.0</td>\n",
       "      <td>Oregon</td>\n",
       "      <td>Willamette Valley</td>\n",
       "      <td>Willamette Valley</td>\n",
       "      <td>Paul Gregutt</td>\n",
       "      <td>@paulgwine</td>\n",
       "      <td>Sweet Cheeks 2012 Vintner's Reserve Wild Child...</td>\n",
       "      <td>Pinot Noir</td>\n",
       "      <td>Sweet Cheeks</td>\n",
       "    </tr>\n",
       "  </tbody>\n",
       "</table>\n",
       "</div>"
      ],
      "text/plain": [
       "   Index_P   country                                        description  \\\n",
       "0        0     Italy  Aromas include tropical fruit, broom, brimston...   \n",
       "1        1  Portugal  This is ripe and fruity, a wine that is smooth...   \n",
       "2        2        US  Tart and snappy, the flavors of lime flesh and...   \n",
       "3        3        US  Pineapple rind, lemon pith and orange blossom ...   \n",
       "4        4        US  Much like the regular bottling from 2012, this...   \n",
       "\n",
       "                          designation  points  price           province  \\\n",
       "0                        Vulkà Bianco      87    NaN  Sicily & Sardinia   \n",
       "1                            Avidagos      87   15.0              Douro   \n",
       "2                                 NaN      87   14.0             Oregon   \n",
       "3                Reserve Late Harvest      87   13.0           Michigan   \n",
       "4  Vintner's Reserve Wild Child Block      87   65.0             Oregon   \n",
       "\n",
       "              region_1           region_2         taster_name  \\\n",
       "0                 Etna                NaN       Kerin O’Keefe   \n",
       "1                  NaN                NaN          Roger Voss   \n",
       "2    Willamette Valley  Willamette Valley        Paul Gregutt   \n",
       "3  Lake Michigan Shore                NaN  Alexander Peartree   \n",
       "4    Willamette Valley  Willamette Valley        Paul Gregutt   \n",
       "\n",
       "  taster_twitter_handle                                              title  \\\n",
       "0          @kerinokeefe                  Nicosia 2013 Vulkà Bianco  (Etna)   \n",
       "1            @vossroger      Quinta dos Avidagos 2011 Avidagos Red (Douro)   \n",
       "2           @paulgwine       Rainstorm 2013 Pinot Gris (Willamette Valley)   \n",
       "3                   NaN  St. Julian 2013 Reserve Late Harvest Riesling ...   \n",
       "4           @paulgwine   Sweet Cheeks 2012 Vintner's Reserve Wild Child...   \n",
       "\n",
       "          variety               winery  \n",
       "0     White Blend              Nicosia  \n",
       "1  Portuguese Red  Quinta dos Avidagos  \n",
       "2      Pinot Gris            Rainstorm  \n",
       "3        Riesling           St. Julian  \n",
       "4      Pinot Noir         Sweet Cheeks  "
      ]
     },
     "execution_count": 110,
     "metadata": {},
     "output_type": "execute_result"
    }
   ],
   "source": [
    "wines.rename(columns = {'Unnamed: 0': 'Index_P'}, inplace = True)\n",
    "wines.head()"
   ]
  },
  {
   "cell_type": "code",
   "execution_count": 111,
   "id": "5c5dffe3",
   "metadata": {},
   "outputs": [
    {
     "data": {
      "text/html": [
       "<div>\n",
       "<style scoped>\n",
       "    .dataframe tbody tr th:only-of-type {\n",
       "        vertical-align: middle;\n",
       "    }\n",
       "\n",
       "    .dataframe tbody tr th {\n",
       "        vertical-align: top;\n",
       "    }\n",
       "\n",
       "    .dataframe thead th {\n",
       "        text-align: right;\n",
       "    }\n",
       "</style>\n",
       "<table border=\"1\" class=\"dataframe\">\n",
       "  <thead>\n",
       "    <tr style=\"text-align: right;\">\n",
       "      <th></th>\n",
       "      <th>count</th>\n",
       "      <th>unique</th>\n",
       "      <th>top</th>\n",
       "      <th>freq</th>\n",
       "      <th>mean</th>\n",
       "      <th>std</th>\n",
       "      <th>min</th>\n",
       "      <th>25%</th>\n",
       "      <th>50%</th>\n",
       "      <th>75%</th>\n",
       "      <th>max</th>\n",
       "    </tr>\n",
       "  </thead>\n",
       "  <tbody>\n",
       "    <tr>\n",
       "      <th>Index_P</th>\n",
       "      <td>280901.0</td>\n",
       "      <td>NaN</td>\n",
       "      <td>NaN</td>\n",
       "      <td>NaN</td>\n",
       "      <td>70615.70596</td>\n",
       "      <td>41214.379445</td>\n",
       "      <td>0.0</td>\n",
       "      <td>35112.0</td>\n",
       "      <td>70225.0</td>\n",
       "      <td>105337.0</td>\n",
       "      <td>150929.0</td>\n",
       "    </tr>\n",
       "    <tr>\n",
       "      <th>country</th>\n",
       "      <td>280833</td>\n",
       "      <td>50</td>\n",
       "      <td>US</td>\n",
       "      <td>116901</td>\n",
       "      <td>NaN</td>\n",
       "      <td>NaN</td>\n",
       "      <td>NaN</td>\n",
       "      <td>NaN</td>\n",
       "      <td>NaN</td>\n",
       "      <td>NaN</td>\n",
       "      <td>NaN</td>\n",
       "    </tr>\n",
       "    <tr>\n",
       "      <th>description</th>\n",
       "      <td>280901</td>\n",
       "      <td>169430</td>\n",
       "      <td>A little bit funky and unsettled when you pop ...</td>\n",
       "      <td>7</td>\n",
       "      <td>NaN</td>\n",
       "      <td>NaN</td>\n",
       "      <td>NaN</td>\n",
       "      <td>NaN</td>\n",
       "      <td>NaN</td>\n",
       "      <td>NaN</td>\n",
       "      <td>NaN</td>\n",
       "    </tr>\n",
       "    <tr>\n",
       "      <th>designation</th>\n",
       "      <td>197701</td>\n",
       "      <td>47239</td>\n",
       "      <td>Reserve</td>\n",
       "      <td>4761</td>\n",
       "      <td>NaN</td>\n",
       "      <td>NaN</td>\n",
       "      <td>NaN</td>\n",
       "      <td>NaN</td>\n",
       "      <td>NaN</td>\n",
       "      <td>NaN</td>\n",
       "      <td>NaN</td>\n",
       "    </tr>\n",
       "    <tr>\n",
       "      <th>points</th>\n",
       "      <td>280901.0</td>\n",
       "      <td>NaN</td>\n",
       "      <td>NaN</td>\n",
       "      <td>NaN</td>\n",
       "      <td>88.146934</td>\n",
       "      <td>3.151528</td>\n",
       "      <td>80.0</td>\n",
       "      <td>86.0</td>\n",
       "      <td>88.0</td>\n",
       "      <td>90.0</td>\n",
       "      <td>100.0</td>\n",
       "    </tr>\n",
       "    <tr>\n",
       "      <th>price</th>\n",
       "      <td>258210.0</td>\n",
       "      <td>NaN</td>\n",
       "      <td>NaN</td>\n",
       "      <td>NaN</td>\n",
       "      <td>34.177162</td>\n",
       "      <td>38.611708</td>\n",
       "      <td>4.0</td>\n",
       "      <td>16.0</td>\n",
       "      <td>25.0</td>\n",
       "      <td>40.0</td>\n",
       "      <td>3300.0</td>\n",
       "    </tr>\n",
       "    <tr>\n",
       "      <th>province</th>\n",
       "      <td>280833</td>\n",
       "      <td>490</td>\n",
       "      <td>California</td>\n",
       "      <td>80755</td>\n",
       "      <td>NaN</td>\n",
       "      <td>NaN</td>\n",
       "      <td>NaN</td>\n",
       "      <td>NaN</td>\n",
       "      <td>NaN</td>\n",
       "      <td>NaN</td>\n",
       "      <td>NaN</td>\n",
       "    </tr>\n",
       "    <tr>\n",
       "      <th>region_1</th>\n",
       "      <td>234594</td>\n",
       "      <td>1332</td>\n",
       "      <td>Napa Valley</td>\n",
       "      <td>10689</td>\n",
       "      <td>NaN</td>\n",
       "      <td>NaN</td>\n",
       "      <td>NaN</td>\n",
       "      <td>NaN</td>\n",
       "      <td>NaN</td>\n",
       "      <td>NaN</td>\n",
       "      <td>NaN</td>\n",
       "    </tr>\n",
       "    <tr>\n",
       "      <th>region_2</th>\n",
       "      <td>111464</td>\n",
       "      <td>18</td>\n",
       "      <td>Central Coast</td>\n",
       "      <td>24122</td>\n",
       "      <td>NaN</td>\n",
       "      <td>NaN</td>\n",
       "      <td>NaN</td>\n",
       "      <td>NaN</td>\n",
       "      <td>NaN</td>\n",
       "      <td>NaN</td>\n",
       "      <td>NaN</td>\n",
       "    </tr>\n",
       "    <tr>\n",
       "      <th>taster_name</th>\n",
       "      <td>103727</td>\n",
       "      <td>19</td>\n",
       "      <td>Roger Voss</td>\n",
       "      <td>25514</td>\n",
       "      <td>NaN</td>\n",
       "      <td>NaN</td>\n",
       "      <td>NaN</td>\n",
       "      <td>NaN</td>\n",
       "      <td>NaN</td>\n",
       "      <td>NaN</td>\n",
       "      <td>NaN</td>\n",
       "    </tr>\n",
       "    <tr>\n",
       "      <th>taster_twitter_handle</th>\n",
       "      <td>98758</td>\n",
       "      <td>15</td>\n",
       "      <td>@vossroger</td>\n",
       "      <td>25514</td>\n",
       "      <td>NaN</td>\n",
       "      <td>NaN</td>\n",
       "      <td>NaN</td>\n",
       "      <td>NaN</td>\n",
       "      <td>NaN</td>\n",
       "      <td>NaN</td>\n",
       "      <td>NaN</td>\n",
       "    </tr>\n",
       "    <tr>\n",
       "      <th>title</th>\n",
       "      <td>129971</td>\n",
       "      <td>118840</td>\n",
       "      <td>Gloria Ferrer NV Sonoma Brut Sparkling (Sonoma...</td>\n",
       "      <td>11</td>\n",
       "      <td>NaN</td>\n",
       "      <td>NaN</td>\n",
       "      <td>NaN</td>\n",
       "      <td>NaN</td>\n",
       "      <td>NaN</td>\n",
       "      <td>NaN</td>\n",
       "      <td>NaN</td>\n",
       "    </tr>\n",
       "    <tr>\n",
       "      <th>variety</th>\n",
       "      <td>280900</td>\n",
       "      <td>756</td>\n",
       "      <td>Pinot Noir</td>\n",
       "      <td>27563</td>\n",
       "      <td>NaN</td>\n",
       "      <td>NaN</td>\n",
       "      <td>NaN</td>\n",
       "      <td>NaN</td>\n",
       "      <td>NaN</td>\n",
       "      <td>NaN</td>\n",
       "      <td>NaN</td>\n",
       "    </tr>\n",
       "    <tr>\n",
       "      <th>winery</th>\n",
       "      <td>280901</td>\n",
       "      <td>19186</td>\n",
       "      <td>Williams Selyem</td>\n",
       "      <td>585</td>\n",
       "      <td>NaN</td>\n",
       "      <td>NaN</td>\n",
       "      <td>NaN</td>\n",
       "      <td>NaN</td>\n",
       "      <td>NaN</td>\n",
       "      <td>NaN</td>\n",
       "      <td>NaN</td>\n",
       "    </tr>\n",
       "  </tbody>\n",
       "</table>\n",
       "</div>"
      ],
      "text/plain": [
       "                          count  unique  \\\n",
       "Index_P                280901.0     NaN   \n",
       "country                  280833      50   \n",
       "description              280901  169430   \n",
       "designation              197701   47239   \n",
       "points                 280901.0     NaN   \n",
       "price                  258210.0     NaN   \n",
       "province                 280833     490   \n",
       "region_1                 234594    1332   \n",
       "region_2                 111464      18   \n",
       "taster_name              103727      19   \n",
       "taster_twitter_handle     98758      15   \n",
       "title                    129971  118840   \n",
       "variety                  280900     756   \n",
       "winery                   280901   19186   \n",
       "\n",
       "                                                                     top  \\\n",
       "Index_P                                                              NaN   \n",
       "country                                                               US   \n",
       "description            A little bit funky and unsettled when you pop ...   \n",
       "designation                                                      Reserve   \n",
       "points                                                               NaN   \n",
       "price                                                                NaN   \n",
       "province                                                      California   \n",
       "region_1                                                     Napa Valley   \n",
       "region_2                                                   Central Coast   \n",
       "taster_name                                                   Roger Voss   \n",
       "taster_twitter_handle                                         @vossroger   \n",
       "title                  Gloria Ferrer NV Sonoma Brut Sparkling (Sonoma...   \n",
       "variety                                                       Pinot Noir   \n",
       "winery                                                   Williams Selyem   \n",
       "\n",
       "                         freq         mean           std   min      25%  \\\n",
       "Index_P                   NaN  70615.70596  41214.379445   0.0  35112.0   \n",
       "country                116901          NaN           NaN   NaN      NaN   \n",
       "description                 7          NaN           NaN   NaN      NaN   \n",
       "designation              4761          NaN           NaN   NaN      NaN   \n",
       "points                    NaN    88.146934      3.151528  80.0     86.0   \n",
       "price                     NaN    34.177162     38.611708   4.0     16.0   \n",
       "province                80755          NaN           NaN   NaN      NaN   \n",
       "region_1                10689          NaN           NaN   NaN      NaN   \n",
       "region_2                24122          NaN           NaN   NaN      NaN   \n",
       "taster_name             25514          NaN           NaN   NaN      NaN   \n",
       "taster_twitter_handle   25514          NaN           NaN   NaN      NaN   \n",
       "title                      11          NaN           NaN   NaN      NaN   \n",
       "variety                 27563          NaN           NaN   NaN      NaN   \n",
       "winery                    585          NaN           NaN   NaN      NaN   \n",
       "\n",
       "                           50%       75%       max  \n",
       "Index_P                70225.0  105337.0  150929.0  \n",
       "country                    NaN       NaN       NaN  \n",
       "description                NaN       NaN       NaN  \n",
       "designation                NaN       NaN       NaN  \n",
       "points                    88.0      90.0     100.0  \n",
       "price                     25.0      40.0    3300.0  \n",
       "province                   NaN       NaN       NaN  \n",
       "region_1                   NaN       NaN       NaN  \n",
       "region_2                   NaN       NaN       NaN  \n",
       "taster_name                NaN       NaN       NaN  \n",
       "taster_twitter_handle      NaN       NaN       NaN  \n",
       "title                      NaN       NaN       NaN  \n",
       "variety                    NaN       NaN       NaN  \n",
       "winery                     NaN       NaN       NaN  "
      ]
     },
     "execution_count": 111,
     "metadata": {},
     "output_type": "execute_result"
    }
   ],
   "source": [
    "wines.describe(include='all',).T"
   ]
  },
  {
   "cell_type": "code",
   "execution_count": 112,
   "id": "12ad41c3",
   "metadata": {},
   "outputs": [
    {
     "data": {
      "text/plain": [
       "Index_P                    int64\n",
       "country                   object\n",
       "description               object\n",
       "designation               object\n",
       "points                     int64\n",
       "price                    float64\n",
       "province                  object\n",
       "region_1                  object\n",
       "region_2                  object\n",
       "taster_name               object\n",
       "taster_twitter_handle     object\n",
       "title                     object\n",
       "variety                   object\n",
       "winery                    object\n",
       "dtype: object"
      ]
     },
     "execution_count": 112,
     "metadata": {},
     "output_type": "execute_result"
    }
   ],
   "source": [
    "wines.dtypes"
   ]
  },
  {
   "cell_type": "markdown",
   "id": "d08974ff",
   "metadata": {},
   "source": [
    "#### Handling Missing Values"
   ]
  },
  {
   "cell_type": "code",
   "execution_count": 113,
   "id": "eb33576c",
   "metadata": {},
   "outputs": [
    {
     "name": "stdout",
     "output_type": "stream",
     "text": [
      "taster_twitter_handle    182143\n",
      "taster_name              177174\n",
      "region_2                 169437\n",
      "title                    150930\n",
      "designation               83200\n",
      "region_1                  46307\n",
      "price                     22691\n",
      "country                      68\n",
      "province                     68\n",
      "variety                       1\n",
      "dtype: int64\n"
     ]
    }
   ],
   "source": [
    "missing_val_count_by_column = (wines.isnull().sum())\n",
    "print(missing_val_count_by_column[missing_val_count_by_column > 0].sort_values(ascending=False))"
   ]
  },
  {
   "cell_type": "code",
   "execution_count": 114,
   "id": "fdb7e069",
   "metadata": {},
   "outputs": [
    {
     "name": "stdout",
     "output_type": "stream",
     "text": [
      "21.156894625305203\n"
     ]
    }
   ],
   "source": [
    "percent_missing = ((wines.isnull().sum().sum())/np.product(wines.shape)*100)\n",
    "print(percent_missing)"
   ]
  },
  {
   "cell_type": "markdown",
   "id": "b8f40e36",
   "metadata": {},
   "source": [
    "For me it doesn't make sense to deal with priceless neighbors, excludes the empty values of provincial parents and variety for being too small to deal"
   ]
  },
  {
   "cell_type": "code",
   "execution_count": 115,
   "id": "6c64ae42",
   "metadata": {},
   "outputs": [
    {
     "data": {
      "text/plain": [
       "(280901, 14)"
      ]
     },
     "execution_count": 115,
     "metadata": {},
     "output_type": "execute_result"
    }
   ],
   "source": [
    "wines.shape"
   ]
  },
  {
   "cell_type": "code",
   "execution_count": 116,
   "id": "9b7681fd",
   "metadata": {},
   "outputs": [],
   "source": [
    "wines.dropna(subset=['price','country', 'province', 'variety'], inplace=True)"
   ]
  },
  {
   "cell_type": "code",
   "execution_count": 117,
   "id": "54a5e096",
   "metadata": {},
   "outputs": [
    {
     "data": {
      "text/plain": [
       "(258145, 14)"
      ]
     },
     "execution_count": 117,
     "metadata": {},
     "output_type": "execute_result"
    }
   ],
   "source": [
    "wines.shape"
   ]
  },
  {
   "cell_type": "code",
   "execution_count": 118,
   "id": "5a4129e6",
   "metadata": {},
   "outputs": [
    {
     "name": "stdout",
     "output_type": "stream",
     "text": [
      "taster_twitter_handle    166645\n",
      "taster_name              161725\n",
      "region_2                 147149\n",
      "title                    137230\n",
      "designation               77078\n",
      "region_1                  42352\n",
      "dtype: int64\n"
     ]
    }
   ],
   "source": [
    "missing_val_count_by_column = (wines.isnull().sum())\n",
    "print(missing_val_count_by_column[missing_val_count_by_column > 0].sort_values(ascending=False))"
   ]
  },
  {
   "cell_type": "markdown",
   "id": "a67a823b",
   "metadata": {},
   "source": [
    "### Distribution of Wine Reviews by Top 10 Countries"
   ]
  },
  {
   "cell_type": "code",
   "execution_count": 132,
   "id": "94dc9736",
   "metadata": {},
   "outputs": [
    {
     "data": {
      "image/png": "[encoded data removed]",
      "text/plain": [
       "<Figure size 1008x720 with 1 Axes>"
      ]
     },
     "metadata": {},
     "output_type": "display_data"
    }
   ],
   "source": [
    "#print('Number of country list in data:',wine['country'].nunique())\n",
    "plt.figure(figsize=(14,10))\n",
    "cnt = wine['country'].value_counts().to_frame()[0:10]\n",
    "sns.barplot(x= cnt['country'], y =cnt.index, data=cnt, palette='Set2',orient='h')\n",
    "plt.title('Distribution of Wine Reviews by Top 10 Countrie');"
   ]
  },
  {
   "cell_type": "markdown",
   "id": "00be39f1",
   "metadata": {},
   "source": [
    "### Distribution of wine price"
   ]
  },
  {
   "cell_type": "code",
   "execution_count": 164,
   "id": "e75fa028",
   "metadata": {},
   "outputs": [
    {
     "data": {
      "text/plain": [
       "Text(0.5, 1.0, 'Distribution of price')"
      ]
     },
     "execution_count": 164,
     "metadata": {},
     "output_type": "execute_result"
    },
    {
     "data": {
      "image/png": "[encoded data removed]",
      "text/plain": [
       "<Figure size 576x576 with 1 Axes>"
      ]
     },
     "metadata": {},
     "output_type": "display_data"
    }
   ],
   "source": [
    "sns.displot(data = wines,color='r', x=\"price\", kind=\"ecdf\", height=8)\n",
    "plt.title('Distribution of price')"
   ]
  },
  {
   "cell_type": "code",
   "execution_count": 166,
   "id": "09e677cb",
   "metadata": {},
   "outputs": [
    {
     "data": {
      "text/plain": [
       "Text(0.5, 1.0, 'Boxplot of price')"
      ]
     },
     "execution_count": 166,
     "metadata": {},
     "output_type": "execute_result"
    },
    {
     "data": {
      "image/png": "[encoded data removed]",
      "text/plain": [
       "<Figure size 1008x720 with 1 Axes>"
      ]
     },
     "metadata": {},
     "output_type": "display_data"
    }
   ],
   "source": [
    "plt.figure(figsize=(14,10))\n",
    "sns.boxplot(data=wines, x='price')\n",
    "plt.title('Boxplot of price')"
   ]
  },
  {
   "cell_type": "code",
   "execution_count": 178,
   "id": "edd3b7c4",
   "metadata": {},
   "outputs": [
    {
     "data": {
      "text/plain": [
       "count    258145.000000\n",
       "mean         34.179725\n",
       "std          38.615971\n",
       "min           4.000000\n",
       "25%          16.000000\n",
       "50%          25.000000\n",
       "75%          40.000000\n",
       "max        3300.000000\n",
       "Name: price, dtype: float64"
      ]
     },
     "execution_count": 178,
     "metadata": {},
     "output_type": "execute_result"
    }
   ],
   "source": [
    "mean_price = 34.179725\n",
    "std_price = 38.615971\n",
    "wines['price'].describe()"
   ]
  },
  {
   "cell_type": "code",
   "execution_count": 180,
   "id": "9b06a930",
   "metadata": {},
   "outputs": [
    {
     "data": {
      "text/plain": [
       "111.411667"
      ]
     },
     "execution_count": 180,
     "metadata": {},
     "output_type": "execute_result"
    }
   ],
   "source": [
    "good_price = mean_price + 2*std_price\n",
    "good_price"
   ]
  },
  {
   "cell_type": "code",
   "execution_count": null,
   "id": "8ee4fa58",
   "metadata": {},
   "outputs": [],
   "source": [
    "sns.displot(data = wines[wines['price']<good_price],color='b', x=\"price\", kde=True, height=8)\n",
    "plt.title('Distribution of price even the good price')"
   ]
  },
  {
   "cell_type": "code",
   "execution_count": null,
   "id": "bcaeb64d",
   "metadata": {},
   "outputs": [],
   "source": [
    "plt.figure(figsize=(14,10))\n",
    "sns.boxplot(data=wines[wines['price']<111], x='price')\n",
    "plt.title('Boxplot of price even the good price')"
   ]
  },
  {
   "cell_type": "code",
   "execution_count": null,
   "id": "49c072d5",
   "metadata": {},
   "outputs": [],
   "source": [
    "sns.displot(data = wines[wines['price']<good_price],color='r', x=\"price\", y=\"points\", kind=\"kde\", rug=True, height=8)\n",
    "plt.title('Distribution of price and points even the good price')"
   ]
  },
  {
   "cell_type": "code",
   "execution_count": null,
   "id": "016221a7",
   "metadata": {},
   "outputs": [],
   "source": []
  }
 ],
 "metadata": {
  "kernelspec": {
   "display_name": "Python 3",
   "language": "python",
   "name": "python3"
  },
  "language_info": {
   "codemirror_mode": {
    "name": "ipython",
    "version": 3
   },
   "file_extension": ".py",
   "mimetype": "text/x-python",
   "name": "python",
   "nbconvert_exporter": "python",
   "pygments_lexer": "ipython3",
   "version": "3.8.8"
  }
 },
 "nbformat": 4,
 "nbformat_minor": 5
}
